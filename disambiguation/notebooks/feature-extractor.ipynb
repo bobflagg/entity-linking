{
 "metadata": {
  "name": ""
 },
 "nbformat": 3,
 "nbformat_minor": 0,
 "worksheets": [
  {
   "cells": [
    {
     "cell_type": "code",
     "collapsed": false,
     "input": [
      "cd ../src/"
     ],
     "language": "python",
     "metadata": {},
     "outputs": [],
     "prompt_number": "*"
    },
    {
     "cell_type": "code",
     "collapsed": false,
     "input": [
      "import data.collector as cl\n",
      "from data.corpus_builder import DirectoryBackedCorpus, FileBackedCorpus\n",
      "from gensim import corpora, models\n"
     ],
     "language": "python",
     "metadata": {},
     "outputs": [],
     "prompt_number": "*"
    },
    {
     "cell_type": "code",
     "collapsed": false,
     "input": [
      "home = \"/home/disambiguation\"\n",
      "target = \"js\"\n",
      "no_below=2\n",
      "no_above=1.0\n",
      "num_topics = 20"
     ],
     "language": "python",
     "metadata": {},
     "outputs": [],
     "prompt_number": "*"
    },
    {
     "cell_type": "code",
     "collapsed": false,
     "input": [
      "output_directory = cl.get_output_directory(home, target)"
     ],
     "language": "python",
     "metadata": {},
     "outputs": [],
     "prompt_number": "*"
    },
    {
     "cell_type": "code",
     "collapsed": false,
     "input": [
      "output_directory"
     ],
     "language": "python",
     "metadata": {},
     "outputs": [],
     "prompt_number": "*"
    },
    {
     "cell_type": "code",
     "collapsed": false,
     "input": [
      "npzfile = np.load(\"%s/data.npz\" % output_directory)\n",
      "data = npzfile['arr_0']"
     ],
     "language": "python",
     "metadata": {},
     "outputs": [],
     "prompt_number": "*"
    },
    {
     "cell_type": "code",
     "collapsed": false,
     "input": [
      "import matplotlib.pyplot as plt\n",
      "from scipy.cluster.hierarchy import linkage, dendrogram\n",
      "R = dendrogram(linkage(data, method='complete'), orientation=\"left\")\n",
      "plt.ylabel('Mentions')\n",
      "plt.xlabel('Height')\n",
      "plt.suptitle('Cluster Dendrogram', fontweight='bold', fontsize=14);"
     ],
     "language": "python",
     "metadata": {},
     "outputs": [],
     "prompt_number": "*"
    },
    {
     "cell_type": "code",
     "collapsed": false,
     "input": [
      "kp_corpus = cl.extract_keyphrase_features(home, output_directory, target, update=False)"
     ],
     "language": "python",
     "metadata": {},
     "outputs": [
      {
       "output_type": "stream",
       "stream": "stdout",
       "text": [
        "Extracting keyphrase features...\n",
        "\ttook 1496.133 s"
       ]
      },
      {
       "output_type": "stream",
       "stream": "stdout",
       "text": [
        "\n"
       ]
      }
     ],
     "prompt_number": 52
    },
    {
     "cell_type": "code",
     "collapsed": false,
     "input": [
      "path = \"%s/keyphrase-corpus.mm\" % output_directory\n",
      "kp_corpus= corpora.MmCorpus(path)"
     ],
     "language": "python",
     "metadata": {},
     "outputs": [],
     "prompt_number": 48
    },
    {
     "cell_type": "code",
     "collapsed": false,
     "input": [
      "for doc in kp_corpus: \n",
      "    print doc\n",
      "    break"
     ],
     "language": "python",
     "metadata": {},
     "outputs": [
      {
       "output_type": "stream",
       "stream": "stdout",
       "text": [
        "[(0, 1.0), (1, 1.0), (2, 1.0), (3, 1.0), (4, 1.0), (5, 1.0), (6, 1.0), (7, 1.0), (8, 1.0)]\n"
       ]
      }
     ],
     "prompt_number": 53
    },
    {
     "cell_type": "code",
     "collapsed": false,
     "input": [
      "count = 0\n",
      "for doc in corpus.documents:\n",
      "    print doc.get_id(), \"-->>\", \"; \".join(list(extract_kc(doc.get_text())))\n",
      "    count += 1\n",
      "    if count == 10: break"
     ],
     "language": "python",
     "metadata": {},
     "outputs": [
      {
       "output_type": "stream",
       "stream": "stdout",
       "text": [
        "14972052736.txt_NORM -->> "
       ]
      },
      {
       "output_type": "stream",
       "stream": "stdout",
       "text": [
        "vice president; found employment; summer camps; given real-life scenarios; job; kgw business reporter joe; few openings  afternoon; eighth graders; tv host\n",
        "14972222414.txt_NORM -->> "
       ]
      },
      {
       "output_type": "stream",
       "stream": "stdout",
       "text": [
        "roster spot; big leagues; tough decision; setup man vinnie pestano; elbow injury; bullpen arm cleveland; right elbow issue; fellow reliever; vinnie pestano; terry francona\n",
        "14978875845.txt_NORM -->> "
       ]
      },
      {
       "output_type": "stream",
       "stream": "stdout",
       "text": [
        "licking county justice center; kidnapping victim michelle knight; cbs news; rusty chains; county sheriff randy thorp; michelle knight; source; keeping knight; ohio legislators; ohio woman\n",
        "14983773369.txt_NORM -->> "
       ]
      },
      {
       "output_type": "stream",
       "stream": "stdout",
       "text": [
        "june 20; country; l; methodist church; home; bessie; meer; ernest d.; joe\n",
        "14986680798.txt_NORM -->> "
       ]
      },
      {
       "output_type": "stream",
       "stream": "stdout",
       "text": [
        "bybee streets; wizer grocery store; whole downtown area; stock market; wine section; october 29; high-end apartments; bigger location; gene; jim wizer\n",
        "14995291974.txt_NORM -->> "
       ]
      },
      {
       "output_type": "stream",
       "stream": "stdout",
       "text": [
        "customers; rome code; police; rome liquor; city clerk joe; copy charge; time; received calls; rome police report; likely go\n",
        "14998670792.txt_NORM -->> "
       ]
      },
      {
       "output_type": "stream",
       "stream": "stdout",
       "text": [
        "wild cards; positive aspects; setup man vinnie pestano; cy young award winner; solid rotation; better back-end threesome; overpowering pitcher; clint frazier; inexperienced cody allen; seventh-inning specialist\n",
        "14999123786.txt_NORM -->> "
       ]
      },
      {
       "output_type": "stream",
       "stream": "stdout",
       "text": [
        "wild cards; positive aspects; setup man vinnie pestano; cy young award winner; solid rotation; better back-end threesome; overpowering pitcher; clint frazier; inexperienced cody allen; seventh-inning specialist\n",
        "14999129316.txt_NORM -->> "
       ]
      },
      {
       "output_type": "stream",
       "stream": "stdout",
       "text": [
        "wild cards; positive aspects; setup man vinnie pestano; cy young award winner; solid rotation; better back-end threesome; overpowering pitcher; clint frazier; inexperienced cody allen; seventh-inning specialist\n",
        "14999133211.txt_NORM -->> "
       ]
      },
      {
       "output_type": "stream",
       "stream": "stdout",
       "text": [
        "wild cards; positive aspects; setup man vinnie pestano; cy young award winner; solid rotation; better back-end threesome; overpowering pitcher; clint frazier; inexperienced cody allen; seventh-inning specialist\n"
       ]
      }
     ],
     "prompt_number": 11
    },
    {
     "cell_type": "code",
     "collapsed": false,
     "input": [],
     "language": "python",
     "metadata": {},
     "outputs": []
    },
    {
     "cell_type": "code",
     "collapsed": false,
     "input": [
      "\n",
      "import codecs\n",
      "from os.path import join\n",
      "from os import listdir\n",
      "\n",
      "path = \"/opt/disambiguation/data/jr-docs\"\n",
      "filenames = [join(path, d) for d in sorted(listdir(path))]\n",
      "for file in filenames:\n",
      "  try:\n",
      "    text = data = codecs.open(file, 'r', 'UTF-8').read()\n",
      "  except:\n",
      "    text = data = codecs.open(file, 'r', 'Windows-1252').read()\n",
      "  print extract_kc(text)"
     ],
     "language": "python",
     "metadata": {},
     "outputs": [],
     "prompt_number": 30
    },
    {
     "cell_type": "code",
     "collapsed": false,
     "input": [
      "len(corpus.dictionary)"
     ],
     "language": "python",
     "metadata": {},
     "outputs": [
      {
       "metadata": {},
       "output_type": "pyout",
       "prompt_number": 31,
       "text": [
        "2500"
       ]
      }
     ],
     "prompt_number": 31
    },
    {
     "cell_type": "code",
     "collapsed": false,
     "input": [
      "lda = models.ldamodel.LdaModel(corpus, id2word=corpus.dictionary, num_topics=num_topics)"
     ],
     "language": "python",
     "metadata": {},
     "outputs": [
      {
       "output_type": "stream",
       "stream": "stderr",
       "text": [
        "WARNING:gensim.models.ldamodel:too few updates, training might not converge; consider increasing the number of passes to improve accuracy\n"
       ]
      }
     ],
     "prompt_number": 33
    },
    {
     "cell_type": "code",
     "collapsed": false,
     "input": [
      "print lda"
     ],
     "language": "python",
     "metadata": {},
     "outputs": [
      {
       "output_type": "stream",
       "stream": "stdout",
       "text": [
        "LdaModel(num_terms=2500, num_topics=20, decay=0.5, chunksize=2000, alpha=0.05)\n"
       ]
      }
     ],
     "prompt_number": 34
    },
    {
     "cell_type": "code",
     "collapsed": false,
     "input": [
      "corpus_lda = lda[corpus]"
     ],
     "language": "python",
     "metadata": {},
     "outputs": [],
     "prompt_number": 35
    },
    {
     "cell_type": "code",
     "collapsed": false,
     "input": [
      "for doc in corpus_lda:\n",
      "    print doc\n",
      "    break"
     ],
     "language": "python",
     "metadata": {},
     "outputs": [
      {
       "output_type": "stream",
       "stream": "stdout",
       "text": [
        "[(1, 0.73180607875466253), (13, 0.25891557053790432)]\n"
       ]
      }
     ],
     "prompt_number": 36
    },
    {
     "cell_type": "code",
     "collapsed": false,
     "input": [],
     "language": "python",
     "metadata": {},
     "outputs": []
    }
   ],
   "metadata": {}
  }
 ]
}