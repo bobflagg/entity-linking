{
 "metadata": {
  "name": ""
 },
 "nbformat": 3,
 "nbformat_minor": 0,
 "worksheets": [
  {
   "cells": [
    {
     "cell_type": "code",
     "collapsed": false,
     "input": [
      "cd ../src"
     ],
     "language": "python",
     "metadata": {},
     "outputs": [
      {
       "output_type": "stream",
       "stream": "stdout",
       "text": [
        "/home/disambiguation/entity-linking/disambiguation/src\n"
       ]
      }
     ],
     "prompt_number": 2
    },
    {
     "cell_type": "code",
     "collapsed": false,
     "input": [
      "home = \"/home/disambiguation\"\n",
      "directory = \"data-sets\"\n",
      "target = \"js-1000\"\n",
      "update_mention_data = False\n",
      "update_reduced_matrix = False\n",
      "update_sparse_matrix = False\n",
      "components = 80\n",
      "use_tf_idf = True\n",
      "surface_form = \"Smith\"\n",
      "\n",
      "no_below=2\n",
      "no_above=1.0\n",
      "\n",
      "num_topics = 20"
     ],
     "language": "python",
     "metadata": {},
     "outputs": [],
     "prompt_number": 3
    },
    {
     "cell_type": "code",
     "collapsed": false,
     "input": [
      "from data.corpus_builder import DirectoryBackedCorpus, FileBackedCorpus\n",
      "from gensim import corpora, models\n",
      "import os\n",
      "import time\n"
     ],
     "language": "python",
     "metadata": {},
     "outputs": [],
     "prompt_number": 4
    },
    {
     "cell_type": "code",
     "collapsed": false,
     "input": [
      "def extract_context_features(output_directory, target, update=False):\n",
      "  print \"Extracting context features...\"\n",
      "  start = time.time()\n",
      "  path = '/%s/context-tfidf.mm' % output_directory\n",
      "  if update or not os.path.exists(path):\n",
      "    context_corpus_path = \"%s/context\" % output_directory\n",
      "    description = \"%s context corpus\" % target\n",
      "    corpus = FileBackedCorpus(context_corpus_path, description, no_below=no_below, no_above=no_above)\n",
      "    corpus.initialize_dictionary()\n",
      "    corpus.dictionary.save('/%s/context.dict' % output_directory)\n",
      "    corpora.MmCorpus.serialize('/%s/context.mm' % output_directory, corpus)\n",
      "    tfidf = models.TfidfModel(corpus)\n",
      "    tfidf.save('/%s/context.tfidf' % output_directory)\n",
      "    corpus_tfidf = tfidf[corpus]\n",
      "    corpora.MmCorpus.serialize(path , corpus_tfidf)\n",
      "  dictionary = corpora.Dictionary.load('/%s/context.dict' % output_directory)\n",
      "  tfidf = models.TfidfModel.load('/%s/context.tfidf' % output_directory)\n",
      "  corpus_tfidf = corpora.MmCorpus(path)\n",
      "  finish = time.time()\n",
      "  print '\\ttook %0.3f s' % (finish-start)\n",
      "  return dictionary, tfidf , corpus_tfidf\n"
     ],
     "language": "python",
     "metadata": {},
     "outputs": [],
     "prompt_number": 43
    },
    {
     "cell_type": "code",
     "collapsed": false,
     "input": [
      "context_dictionary, context_tfidf , context_corpus_tfidf = extract_context_features(output_directory, target)"
     ],
     "language": "python",
     "metadata": {},
     "outputs": [
      {
       "output_type": "stream",
       "stream": "stdout",
       "text": [
        "Extracting context features...\n",
        "\ttook 0.004 s\n"
       ]
      }
     ],
     "prompt_number": 45
    },
    {
     "cell_type": "code",
     "collapsed": false,
     "input": [
      "import data.collector as cl"
     ],
     "language": "python",
     "metadata": {},
     "outputs": [],
     "prompt_number": 5
    },
    {
     "cell_type": "code",
     "collapsed": false,
     "input": [
      "reload(cl)"
     ],
     "language": "python",
     "metadata": {},
     "outputs": [
      {
       "metadata": {},
       "output_type": "pyout",
       "prompt_number": 6,
       "text": [
        "<module 'data.collector' from 'data/collector.pyc'>"
       ]
      }
     ],
     "prompt_number": 6
    },
    {
     "cell_type": "code",
     "collapsed": false,
     "input": [
      "import data.collector as cl\n",
      "output_directory = cl.get_output_directory(home, target)\n",
      "cl.collect(home, directory, target, output_directory, update_mention_data)\n",
      "context_dictionary, context_tfidf , context_corpus_tfidf = cl.extract_context_features(output_directory, target)\n",
      "document_dictionary, document_lda ,document_corpus_lda = cl.extract_topic_features(home, output_directory, target, num_topics)\n",
      "kp_corpus = cl.extract_keyphrase_features(home, output_directory, target)\n",
      "S = cl.get_sparse_matrix(output_directory, context_corpus_tfidf, len(context_dictionary), \n",
      "    list(document_corpus_lda), num_topics, kp_corpus, update_sparse_matrix)\n",
      "X = cl.get_reduced_matrix(output_directory, S, components, use_tf_idf, update_reduced_matrix)\n",
      "info = [(i, phrase) for i, _, phrase in cl.get_info(output_directory)]\n",
      "indices = [i for i, phrase in info if surface_form in phrase]\n",
      "data = X[indices,:]\n",
      "import matplotlib.pyplot as plt\n",
      "from scipy.cluster.hierarchy import linkage, dendrogram\n",
      "R = dendrogram(linkage(data, method='complete'), orientation=\"left\")\n",
      "plt.ylabel('Mentions')\n",
      "plt.xlabel('Height')\n",
      "plt.suptitle('Cluster Dendrogram', fontweight='bold', fontsize=14);\n"
     ],
     "language": "python",
     "metadata": {},
     "outputs": [
      {
       "output_type": "stream",
       "stream": "stdout",
       "text": [
        "Collecting mentions data...\n",
        "\ttook 0.000 s\n",
        "Extracting context features...\n",
        "\ttook 0.004 s\n",
        "Extracting topic features...\n",
        "\ttook 0.006 s\n",
        "Extracting keyphrase features...\n",
        "\ttook 0.000 s\n",
        "Getting sparse matrix...\n",
        "\ttook 0.013 s\n",
        "Getting reduced matrix...\n",
        "\ttook 0.002 s\n"
       ]
      },
      {
       "metadata": {},
       "output_type": "display_data",
       "png": "[encoded data removed]",
       "text": [
        "<matplotlib.figure.Figure at 0x3ebef50>"
       ]
      }
     ],
     "prompt_number": 9
    },
    {
     "cell_type": "code",
     "collapsed": false,
     "input": [
      "X.shape"
     ],
     "language": "python",
     "metadata": {},
     "outputs": [
      {
       "metadata": {},
       "output_type": "pyout",
       "prompt_number": 10,
       "text": [
        "(918, 80)"
       ]
      }
     ],
     "prompt_number": 10
    },
    {
     "cell_type": "code",
     "collapsed": false,
     "input": [],
     "language": "python",
     "metadata": {},
     "outputs": []
    }
   ],
   "metadata": {}
  }
 ]
}