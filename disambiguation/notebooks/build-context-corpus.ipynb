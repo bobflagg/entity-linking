{
 "metadata": {
  "name": ""
 },
 "nbformat": 3,
 "nbformat_minor": 0,
 "worksheets": [
  {
   "cells": [
    {
     "cell_type": "code",
     "collapsed": false,
     "input": [
      "cd '/home/disambiguation/corpus'"
     ],
     "language": "python",
     "metadata": {},
     "outputs": [
      {
       "output_type": "stream",
       "stream": "stdout",
       "text": [
        "/home/disambiguation/corpus\n"
       ]
      }
     ],
     "prompt_number": 11
    },
    {
     "cell_type": "code",
     "collapsed": false,
     "input": [
      "import codecs\n",
      "from os import listdir\n",
      "from os.path import exists\n",
      "import shutil, errno"
     ],
     "language": "python",
     "metadata": {},
     "outputs": [],
     "prompt_number": 38
    },
    {
     "cell_type": "code",
     "collapsed": false,
     "input": [
      "source = 'ambient-document-corpus'\n",
      "target = 'ambient-context-corpus'"
     ],
     "language": "python",
     "metadata": {},
     "outputs": [],
     "prompt_number": 19
    },
    {
     "cell_type": "code",
     "collapsed": false,
     "input": [
      "for d in listdir(source):\n",
      "    doc = codecs.open(\"%s/%s\" % (source, d), 'r', 'UTF-8').read()\n",
      "    context = \" \".join(doc.split()[10:65])\n",
      "    fp = codecs.open(\"%s/%s\" % (target, d), 'w', 'UTF-8')\n",
      "    fp.write(context)\n",
      "    fp.close()"
     ],
     "language": "python",
     "metadata": {},
     "outputs": [],
     "prompt_number": 27
    },
    {
     "cell_type": "code",
     "collapsed": false,
     "input": [
      "source = '/home/disambiguation/data/johnSmith'\n",
      "target = '/home/disambiguation/corpus/entity'"
     ],
     "language": "python",
     "metadata": {},
     "outputs": [],
     "prompt_number": 32
    },
    {
     "cell_type": "code",
     "collapsed": false,
     "input": [
      "for d in listdir(source):\n",
      "    src = \"%s/%s\" % (source, d)\n",
      "    dst = \"%s/js-%s\" % (target, d)\n",
      "    if not exists(dst): shutil.copytree(src, dst) "
     ],
     "language": "python",
     "metadata": {},
     "outputs": [],
     "prompt_number": 40
    },
    {
     "cell_type": "code",
     "collapsed": false,
     "input": [
      "for d in listdir(target):\n",
      "    folder = \"%s/%s\" % (target, d)\n",
      "    for f in listdir(folder):\n",
      "        if '.' in f: \n",
      "            s = \"%s/%s\" % (folder, f)\n",
      "            f = f.replace('.', '-')\n",
      "            t = \"%s/%s.txt\" % (folder, f)\n",
      "            #print \"\\t\", s, \"-->\", t\n",
      "            shutil.move(s,t)\n",
      "        "
     ],
     "language": "python",
     "metadata": {},
     "outputs": [
      {
       "output_type": "stream",
       "stream": "stdout",
       "text": [
        "js-25\n",
        "js-29\n",
        "js-9\n",
        "js-5\n",
        "js-14\n",
        "js-1\n",
        "js-17\n",
        "js-0\n",
        "js-22\n",
        "js-23\n",
        "js-32\n",
        "js-7\n",
        "js-8\n",
        "js-13\n",
        "js-4\n",
        "js-20\n",
        "js-27\n",
        "js-12\n",
        "js-24\n",
        "js-19\n",
        "js-26\n",
        "js-28\n",
        "js-31\n",
        "js-15\n",
        "js-6\n",
        "js-3\n",
        "js-16\n",
        "js-2\n",
        "js-34\n",
        "js-33\n",
        "js-21\n",
        "js-11\n",
        "js-18\n",
        "js-10\n",
        "js-30\n"
       ]
      }
     ],
     "prompt_number": 48
    },
    {
     "cell_type": "code",
     "collapsed": false,
     "input": [],
     "language": "python",
     "metadata": {},
     "outputs": []
    }
   ],
   "metadata": {}
  }
 ]
}