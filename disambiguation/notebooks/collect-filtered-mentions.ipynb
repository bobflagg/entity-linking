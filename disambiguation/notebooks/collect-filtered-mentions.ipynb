{
 "metadata": {
  "name": ""
 },
 "nbformat": 3,
 "nbformat_minor": 0,
 "worksheets": [
  {
   "cells": [
    {
     "cell_type": "code",
     "collapsed": false,
     "input": [
      "cd '../src'"
     ],
     "language": "python",
     "metadata": {},
     "outputs": [
      {
       "output_type": "stream",
       "stream": "stdout",
       "text": [
        "/home/disambiguation/entity-linking/disambiguation/src\n"
       ]
      }
     ],
     "prompt_number": 52
    },
    {
     "cell_type": "code",
     "collapsed": false,
     "input": [
      "import codecs\n",
      "import json as simplejson\n",
      "import re\n",
      "from data.domain import FeatureSet\n",
      "import data.domain as dm\n",
      "# http://www.tutorialspoint.com/python/python_reg_expressions.htm"
     ],
     "language": "python",
     "metadata": {},
     "outputs": [],
     "prompt_number": 64
    },
    {
     "cell_type": "code",
     "collapsed": false,
     "input": [
      "reload(dm)\n"
     ],
     "language": "python",
     "metadata": {},
     "outputs": [
      {
       "metadata": {},
       "output_type": "pyout",
       "prompt_number": 61,
       "text": [
        "<module 'data.domain' from 'data/domain.py'>"
       ]
      }
     ],
     "prompt_number": 61
    },
    {
     "cell_type": "code",
     "collapsed": false,
     "input": [
      "output_directory = '/home/disambiguation/output/entity/js-0'\n",
      "mentions_path = '%s/Proximity_AllCollapsedContext_JS' % output_directory\n",
      "surface_forms = ['Smith', '^John$']\n",
      "surface_form_pattern = \"|\".join(surface_forms)\n",
      "surface_form_re = re.compile(surface_form_pattern, re.IGNORECASE)"
     ],
     "language": "python",
     "metadata": {},
     "outputs": [],
     "prompt_number": 65
    },
    {
     "cell_type": "code",
     "collapsed": false,
     "input": [
      "surface_form_re.search(\"John\")"
     ],
     "language": "python",
     "metadata": {},
     "outputs": [
      {
       "metadata": {},
       "output_type": "pyout",
       "prompt_number": 44,
       "text": [
        "<_sre.SRE_Match at 0x2b191d0>"
       ]
      }
     ],
     "prompt_number": 44
    },
    {
     "cell_type": "code",
     "collapsed": false,
     "input": [
      "mentions_data = codecs.open(mentions_path, 'r', 'UTF-8').readlines()"
     ],
     "language": "python",
     "metadata": {},
     "outputs": [],
     "prompt_number": 31
    },
    {
     "cell_type": "code",
     "collapsed": false,
     "input": [
      "doc_id = None\n",
      "mention = None\n",
      "finished_doc = True\n",
      "index = 0\n",
      "features = []\n",
      "for line in mentions_data: \n",
      "  line = line.strip()\n",
      "  #print line\n",
      "  if line:\n",
      "    if finished_doc: \n",
      "      doc_id, path = line.split(\":\")\n",
      "      doc_id = doc_id.strip()\n",
      "      path = path.strip()[1:-1]\n",
      "      doc_name = path.split('/')[-1]\n",
      "      finished_doc = False\n",
      "    else:\n",
      "      data = line.split('\\t')\n",
      "      sf = data[0].split(':')[0]\n",
      "      if surface_form_re.search(sf): \n",
      "            for item in data[1:-1]:\n",
      "                fs = dm.FeatureSet(item)\n",
      "                features.append(fs.to_dict())\n",
      "      index += 1\n",
      "  else: \n",
      "    finished_doc = True\n",
      "#fp = codecs.open(\"%s/features-entities.json\" % output_directory, 'w', 'UTF-8')\n",
      "fp = codecs.open(\"%s/features-entities.json\" % '/tmp', 'w', 'UTF-8')\n",
      "simplejson.dump(features, fp, indent=4)\n",
      "fp.close()\n"
     ],
     "language": "python",
     "metadata": {},
     "outputs": [],
     "prompt_number": 68
    },
    {
     "cell_type": "code",
     "collapsed": false,
     "input": [],
     "language": "python",
     "metadata": {},
     "outputs": []
    }
   ],
   "metadata": {}
  }
 ]
}