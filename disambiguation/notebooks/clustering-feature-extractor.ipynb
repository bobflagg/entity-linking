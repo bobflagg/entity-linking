{
 "metadata": {
  "name": ""
 },
 "nbformat": 3,
 "nbformat_minor": 0,
 "worksheets": [
  {
   "cells": [
    {
     "cell_type": "code",
     "collapsed": false,
     "input": [
      "cd '/home/disambiguation/entity-linking/disambiguation/src/'"
     ],
     "language": "python",
     "metadata": {},
     "outputs": [
      {
       "output_type": "stream",
       "stream": "stdout",
       "text": [
        "/home/CERT/rflagg/disambiguation/entity-linking/disambiguation/src\n"
       ]
      }
     ],
     "prompt_number": 1
    },
    {
     "cell_type": "code",
     "collapsed": false,
     "input": [
      "import codecs\n",
      "import ConfigParser\n",
      "from data.domain import SUBTYPES\n",
      "import json as simplejson\n",
      "import numpy as np\n",
      "import optparse\n",
      "import os\n",
      "from scipy.sparse import csc_matrix, hstack, lil_matrix\n",
      "import time"
     ],
     "language": "python",
     "metadata": {},
     "outputs": [],
     "prompt_number": 2
    },
    {
     "cell_type": "code",
     "collapsed": false,
     "input": [
      "home = '/home/disambiguation/'\n",
      "group = 'js'"
     ],
     "language": "python",
     "metadata": {},
     "outputs": [],
     "prompt_number": 3
    },
    {
     "cell_type": "code",
     "collapsed": false,
     "input": [
      "def get_coreference_data(home, group, update=False):\n",
      "  start = time.time()\n",
      "  path = '%s/output/entity/%s/coreference-data.txt' % (home, group)\n",
      "  fp = codecs.open(path, 'r', 'UTF-8')\n",
      "  data = simplejson.load(fp)\n",
      "  fp.close()\n",
      "  nrow = data[\"next-doc-index\"]\n",
      "  ncol = data[\"next-sf-index\"]  \n",
      "  path = '%s/output/entity/fof-sparse.npz' % home\n",
      "  if update or not os.path.exists(path):\n",
      "    print \"Updating first-order features...\"\n",
      "    S = lil_matrix((nrow, ncol))\n",
      "    for doc_id, doc_index in data['doc-index-map'].iteritems():\n",
      "      for sf_index in data['doc-sfs'][doc_id]: S[doc_index, sf_index] = 1.0\n",
      "    S = S.tocsc()\n",
      "    sums = S.sum(axis=0)\n",
      "    np.savez(path, S.data, S.indices, S.indptr, sums)\n",
      "  else: print \"Loading coreference data...\"  \n",
      "  npzfile = np.load(path)\n",
      "  S = csc_matrix((npzfile['arr_0'], npzfile['arr_1'], npzfile['arr_2']), shape=(nrow, ncol))\n",
      "  sums = npzfile['arr_3']\n",
      "  finish = time.time()\n",
      "  print '\\ttook %0.3f s' % (finish-start)\n",
      "  return data, S, sums"
     ],
     "language": "python",
     "metadata": {},
     "outputs": [],
     "prompt_number": 4
    },
    {
     "cell_type": "code",
     "collapsed": false,
     "input": [
      "sf_data, S, sums = get_coreference_data(home, group, update=False)\n",
      "sf_map = {value:key for key, value in sf_data['sf-index-map'].iteritems()}\n",
      "doc_map = {value:key for key, value in sf_data['doc-index-map'].iteritems()}"
     ],
     "language": "python",
     "metadata": {},
     "outputs": [
      {
       "output_type": "stream",
       "stream": "stdout",
       "text": [
        "Loading coreference data...\n",
        "\ttook 0.032 s\n"
       ]
      }
     ],
     "prompt_number": 5
    },
    {
     "cell_type": "code",
     "collapsed": false,
     "input": [
      "nrow = sf_data[\"next-doc-index\"]\n",
      "ncol = sf_data[\"next-sf-index\"]  \n",
      "info = {}\n",
      "index_map = {}\n",
      "labels = range(nrow)\n",
      "for key, value in sf_data['doc-index-map'].iteritems():\n",
      "    folder, the_rest = key.split('::')\n",
      "    identifier = the_rest.split()[0].split('-')[-1][:-4]\n",
      "    index = the_rest.split()[-1]\n",
      "    label = folder.split('-')[-1]\n",
      "    labels[value] = label\n",
      "    tag = \"%s-%s\" % (label,identifier)\n",
      "    info[value] = (folder, label, identifier, tag, key, value)\n",
      "    index_map[tag] = value\n",
      "f = open(\"/home/disambiguation/data/info.csv\", 'w')\n",
      "for folder, label, identifier, tag, key, value in info.values(): \n",
      "    f.write(\"%s,%s,%s,%s,%s,%d\\n\" % (folder, label, identifier, tag, key, value))\n",
      "f.close()"
     ],
     "language": "python",
     "metadata": {},
     "outputs": [],
     "prompt_number": 10
    },
    {
     "cell_type": "code",
     "collapsed": false,
     "input": [
      "def show_coreference_info(doc_index):\n",
      "    results = {}\n",
      "    for key, value in [sf_map[i].split('::') for i in sf_data['doc-sfs'][doc_map[doc_index]]]:\n",
      "        if not key in results: results[key] = set()\n",
      "        results[key].add(value)\n",
      "    keys = results.keys()\n",
      "    keys.sort()\n",
      "    print doc_map[doc_index]\n",
      "    for key in keys:\n",
      "        values = sort(list(results[key]))\n",
      "        print \"\\t%s: %s\" % (key, \"; \".join(values))"
     ],
     "language": "python",
     "metadata": {},
     "outputs": [],
     "prompt_number": 11
    },
    {
     "cell_type": "code",
     "collapsed": false,
     "input": [
      "for key in [key for key in index_map.keys() if key.startswith('16-')]:\n",
      "    show_coreference_info(index_map[key])"
     ],
     "language": "python",
     "metadata": {},
     "outputs": [
      {
       "output_type": "stream",
       "stream": "stdout",
       "text": [
        "js-16::970217-365_UEM\n",
        "\tCOMPANY: abb asea brown boveri ltd.; caterpillar inc.; chrysler corp.; eastman kodak co.; ford; ford motor co.; general motors; general motors corp.; gm; kodak; nyt\n",
        "\tGEO: america; argentina; china; detroit; new york; new york city; poland; sweden; switzerland; thailand; united states; washington; zurich\n",
        "\tORGANIZATION: gm; treasury\n",
        "\tPERSON: fisher; george fisher; harry pearce; lloyd reuss; louis hughes; marina whitman; pearce; percy barnevik; reagan; robert rubin\n",
        "js-16::970814-683_UEM\n",
        "\tCOMPANY: bloomberg general motors corp.; delphi; delphi automotive; gm\n",
        "\tGEO: delphi; detroit; europe; north america\n",
        "\tGOVERNMENT: sec; securities and exchange commission\n",
        "\tPERSON: finn; jim finn\n",
        "js-16::970109-769_UEM\n",
        "\tCOMPANY: burnham securities; general motors; general motors corp.; gm; new york stock exchange; nyt; volkswagen; volkswagen ag; vw\n",
        "\tGEO: darmstadt; darmstadt, germany; detroit; europe; frankfurt; germany; hauer; piech; u.s.; washington; wolfsburg, germany\n",
        "\tGOVERNMENT: justice department\n",
        "\tLOCATION: earnest; gump\n",
        "\tORGANIZATION: gm; hauer & feld; piech of volkswagen; volkswagen board of supervisors\n",
        "\tPERSON: cacheris; david healy; ferdinand piech; jens neumann; john smale; jose ignacio lopez de arriortua; klaus liesen; liesen; lopez; neumann; piech; plato cacheris; robert strauss; smale; strauss; thomas gottschalk\n",
        "js-16::960624-442_UEM\n",
        "\tCOMPANY: bloomberg general motors corp.; burnham securities; ford; ford motor co.; gm; handelsbanken; hughes; investor ab; jaguar; jaguar plc; saab; saab ab; saab auto; saab automobile ab; saab scania ab; scania\n",
        "\tGEO: detroit; hendry; stockholm; sweden; u.k.; u.s.; uk\n",
        "\tORGANIZATION: jaguar productivity; saab partner investor ab; saturn; scania\n",
        "\tPERSON: anders rydin; butler wheelhouse; david healy; gunnar andersson; joel manby; keith butler wheelhouse; louis hughes; lundin; marcus wallenberg; mark tanner; nils ingmar lundin; olle axelsson; robert hendry; wallenberg\n",
        "js-16::960524-444_UEM\n",
        "\tCOMPANY: abbott laboratories; abbott labs; bell acres recreation enterprise; billion magellan fund; bloomberg business news; bristol myers squibb co.; burnham securities; coca cola co.; dow jones industrial average; fidelity; finance lear corp.; general motors corp.; gm; health data sciences; hsbc midland bank; jardine fleming securities ltd.; magellan; magellan fund; masland corp.; mcdonald's corp.; mcm moneywatch; salomon brothers inc.; standard & poor; ubs securities\n",
        "\tGEO: abbott; abbott park, illinois; asia; atlanta; bell acres; boston; central europe; china; dawsonville, georgia; georgia; greenwich, connecticut; hidden valley; italy; japan; kansas; maysville, georgia; meriwether; midland bank; moscow; new york; north america; pacific; poland; russia; sakakibara; san francisco; similac; southeast asia; tokyo; u.s.; vietnam; wall street; washington; wilmington, delaware\n",
        "\tGOVERNMENT: aup justice dept.; commerce department; senate; treasury\n",
        "\tLOCATION: long term capital; mayumi otsuma tokyo; new york; u.s.; worldwide kansas\n",
        "\tORGANIZATION: banks say bad loans wiped out record earnings; defense; fidelity; fidelity investments; gm; gold club; hidden valley resort; long term capital management; magellan; medaphis; ministry; nasdaq composite index; skin sites can barely wait; track for third whopping year; united auto workers\n",
        "\tPERSON: abbott; adam levy; anita ohlwiler; astrid adolfson; bob stansky; brian lysaght wilmington; carrick mollenkamp dawsonville; clinton; david healy; david ogg; dole; ed levin; eisuke sakakibara; evan bell; frahm; jeffrey n. vinik; john meriwether; katherine burton; ken kohn; marc monseau abbott park; mead johnson; michael holland; mr. yen; peterson; rick moser; stephen janachowski; tim quinson; todd zaun; vincent del giudice; walter altherr; yeltsin; yukiko ohara\n",
        "js-16::970523-455_UEM\n",
        "\tCOMPANY: bloomberg buffalo; bloomberg buffalo stock index; charter one financial inc.; dow jones industrial average; general motors corp.; gm; hartmarx; hartmarx corp.; niagara mohawk power corp.; rcsb; rcsb financial inc.; rochester community savings bank; standard & poor\n",
        "\tGEO: buffalo; buffalo, new york; chicago; cleveland; detroit; syracuse, new york\n",
        "\tORGANIZATION: nasdaq composite index; niagara; parent of company of rochester community savings bank; rcsb; rcsb financial\n",
        "js-16::960409-394_UEM\n",
        "\tCOMPANY: bloomberg general motors corp.; chrysler corp.; ford motor co.; general motors\n",
        "\tGEO: detroit\n",
        "\tGOVERNMENT: securities and exchange commission\n",
        "\tORGANIZATION: executive compensation committee\n",
        "\tPERSON: robert eaton\n",
        "js-16::970325-270_UEM\n",
        "\tCOMPANY: air china; airbus industrie; bloomberg boeing co.; boeing; general motors corp.; gm; nyt; pratt & whitney; shanghai automotive industry; shanghai automotive industry corp.; united technologies corp.; united technologies's pratt & whitney division\n",
        "\tGEO: america; beijing; china; europe; gore; japan; missouri; seattle; shanghai; south korea; tiananmen square; u.s.; united states; washington\n",
        "\tGOVERNMENT: congress; house; people's liberation army; u.s. china business council\n",
        "\tLOCATION: u.s.\n",
        "\tORGANIZATION: buick regal; forum for international policy; gm shanghai venture; world trade organization; wto\n",
        "\tPERSON: al gore; arnold kanter; clinton; david; george bush; george david; gore; jiang zemin; kanter; kapp; li peng; lorraine voles; mark sullivan; richard gephardt; robert kapp; ron woodard; ryutaro hashimoto; sullivan\n",
        "js-16::970127-279_UEM\n",
        "\tCOMPANY: bloomberg general motors corp.; gm; hughes electronics corp.; nyt\n",
        "\tGEO: detroit\n",
        "js-16::961003-573_UEM\n",
        "\tCOMPANY: bear stearns & co.; bloomberg; canadian auto workers; chrysler; chrysler corp.; ford; general motors; general motors of canada ltd.; gm; gm canada; pontiac sunfire; united auto workers\n",
        "\tGEO: canada; detroit; farmington hills, michigan; new malibu; oklahoma; oklahoma city; oshawa; oshawa, ontario; ottawa; paris; quebec; st. catharines; st. catharines, ontario; ste. therese; tahoe; toronto; u.s.; windsor, ontario\n",
        "\tLOCATION: malibu; north\n",
        "\tORGANIZATION: buick century; caw; chevrolet; csm forecasting; gm; liberal government; monte carlo; oldsmobile achieva; uaw\n",
        "\tPERSON: brown; finance minister paul martin; hargrove; lobaccaro; nicholas lobaccaro; stephen yokich; stew low; therese; wes brown; yokich\n",
        "js-16::971104-358_UEM\n",
        "\tCOMPANY: bloomberg; edison electric institute; general motors; general motors corp.; gm; morgan stanley; nebraska wheat board; nyt; pioneer railcorp; southern pacific rail corp.; union pacific corp.\n",
        "\tGEO: austin; austin, texas; chicago; dallas; houston; jacksonville, florida; kansas; nebraska; new york; pacific; peoria, illinois; powder river; san antonio, texas; u.s.; washington; wyoming\n",
        "\tGOVERNMENT: city public service of san antonio; federal railroad administration; kansas department of agriculture; treasury; u.s. department of agriculture; u.s. department of energy; usda\n",
        "\tLOCATION: midwest; powder river basin; southern pacific; southwest; union pacific\n",
        "\tORGANIZATION: austin electric utility; conference board; dallas based union pacific corp.; fed; federal reserve; gm; national association of purchasing management; treasury; u.s. department of agriculture estimates; u.s. department of energy statistics; union pacific\n",
        "\tPERSON: andy ramirez; barnett banks; carole jordan; chuck linderman; david greenlaw; guy brenkman; john bromley; jordan; linderman; lynn reaser; maas; mark werner; phillips; ronald maas; susan phillips; tom klipstine\n",
        "js-16::971014-359_UEM\n",
        "\tCOMPANY: bloomberg general motors corp.; chevrolet; chrysler; credit suisse first boston; delco electronics; delphi; delphi automotive systems; ford motor co.; general motors acceptance corp.; gm; hughes; hughes electronics; ibes international inc.; j.p. morgan; olstein and associates; opel; vauxhall\n",
        "\tGEO: asia pacific; delco; delphi; detroit; europe; latin america; north america; pontiac; purchase, n.y.\n",
        "\tLOCATION: chevrolet malibu\n",
        "\tORGANIZATION: chrysler; credit suisse first boston analyst; delphi; gm; gm chief financial officer; hughes defense; hughes electronics subsidiary; north american automotive employment; north american brands include chevrolet; north american operations; raytheon co.; saturn\n",
        "\tPERSON: david bradley; holden; j. michael losh; losh; nicholas colas; olstein; robert olstein\n",
        "js-16::960917-516_UEM\n",
        "\tCOMPANY: bloomberg; chrysler; chrysler corp.; delphi automotive systems; ford; ford motor co.; general motors corp.; gm; lehman brothers\n",
        "\tEDUCATIONAL: university of california at berkeley\n",
        "\tGEO: colorado; delphi; detroit; michigan; u.s.\n",
        "\tLOCATION: berkeley\n",
        "\tORGANIZATION: ford; gm; uaw; united auto workers\n",
        "\tPERSON: alexander trotman; harley shaiken; joseph phillippi; stephen yokich; yokich\n",
        "\tSPORTS: michigan wolverines\n",
        "js-16::970114-515_UEM\n",
        "\tCOMPANY: bloomberg mitsubishi motor manufacturing of america; chrysler corp.; daimler benz ag; ford motor co.; general motors corp.; gm; honda; honda motor co.; lexus division of toyota motor sales usa inc.; mercedes benz of north america; mitsubishi; mitsubishi motor manufacturing; mitsubishi motor sales of america; mitsubishi motors corp.; nyt; toyota division; toyota motor co.; toyota motor corp.\n",
        "\tGEO: america; detroit; germany; jackson; japan; lexus; new york; normal, illinois; north america; open a; torrance, california; u.s.; usa; wall street; washington\n",
        "\tGOVERNMENT: equal employment opportunity commission\n",
        "\tLOCATION: u.s.\n",
        "\tORGANIZATION: automotive news world congress; coalition group; labor; national association of minority automobile dealers; push coalition; rewrites\n",
        "\tPERSON: boland; dick colliver; donna boland; jackson; jesse jackson; kim custer; lynn martin; michels; mike michels\n",
        "js-16::960530-355_UEM\n",
        "\tCOMPANY: agriculture news agriculture grain washington agriculture; bagels inc.; bank of japan; bloomberg; bloomberg business news; borland; borland international inc.; cftc; electronic cash editors bloomberg business news; electronic cash regulation first union corp.; eu brussels visa international inc; general motors corp.; gm; gm thailand bangkok general motors corp.; market news; n.y. times news service; new york commodities; peabody & co.; samsung electronics co.; u.s. customs service; visa international inc.\n",
        "\tGEO: atlanta; bangkok; brussels; chairman; china; copenhagen; golden, colorado; japan; jett; midwest; new york; pacific; philippines; princeton, n.j.; samsung; scotts valley, california; seoul; south korea; thailand; three gorges dam; u.s.; us; washington; zurich\n",
        "\tGOVERNMENT: commerce department; commodity futures trading commission; federal reserve; house; u.s. chamber of commerce\n",
        "\tLOCATION: einstein bros; european union; new york; southern states; u.s. export import bank\n",
        "\tORGANIZATION: conference board; eu; house appropriations subcommittee; kidder, peabody & co.; vincent del giudice\n",
        "\tPERSON: adam levy; agriculture secretary dan glickman; agriculture secretary glickman; allan doody; brian lysaght; brian rooney; carrick mollenkamp; clinton; dan weil; derrick ward; edward roussel; fred winkler; hal paul; jenny tomkins; joseph jett; ken kohn; kourosh karimkhany; kristin jensen; larry levinson; marthe fourcade; michael di cicco; michelle fay cortez; mike streeto; reto gregori; roberto dias; robinson clark; roger runningen; shannon stevens; steve dryden; ted hampton; yvette roper\n",
        "js-16::970523-591_UEM\n",
        "\tCOMPANY: bloomberg; dow jones; general motors corp.; grupo financiero bbv probursa sa; j.p. morgan inc.; kansas city southern industries inc.; moody; moody's; moody's investors service; s&p; sanluis; sanluis corp.; standard & poor's credit corp.; tmm; transportacion maritima mexicana sa; united auto workers\n",
        "\tGEO: far east; mexico; mexico city; new york; u.s.; wilmington, delaware\n",
        "\tGOVERNMENT: federal open market committee\n",
        "\tLOCATION: rio grande; u.s.; updates\n",
        "\tORGANIZATION: chamber of deputies; democratic revolutionary party; gm; institutional revolutionary party; national action party; northeast railroad; pri; tmm; treasury\n",
        "\tPERSON: ernesto zedillo; jorge sigg; mejorada; pedro mejorada; tom dibble; zedillo\n",
        "js-16::960924-456_UEM\n",
        "\tCOMPANY: ford motor co.; general motors corp.; northville\n",
        "\tGEO: dearborn, michigan; detroit; kansas; michigan; northville, michigan; ohio; u.s.; washington\n",
        "\tGOVERNMENT: congress; federal reserve\n",
        "\tORGANIZATION: bloomberg republican; economic club of detroit; federal reserve policymakers\n",
        "\tPERSON: bill clinton; bob dole; clinton; dole; engler; james blanchard; john engler; linda wyatt; max fisher; peter zachary; wyatt; zachary\n",
        "js-16::961016-293_UEM\n",
        "\tCOMPANY: air france paris air france; american airlines inc.; bloomberg business news; boeing co.; british airways plc; california sun microsystems inc.; caw; compaq computer corp.; continental airlines inc.; delta air lines inc.; fcc; fmc corp.; gm; gm strike toronto general motors corp.; illinois sears; japan airlines co.; klm royal dutch airlines nv; market news; merck & co.; michigan ford motor co.; n.y. times news service; new york commodities; new york johnson & johnson; roebuck & co.; rohm & haas co.; schering plough corp.; sears hoffman estates; sun microsystems inc.; virgin british airways london virgin atlantic; yahoo!\n",
        "\tGEO: boeing; britain; california; chicago; colorado; czech republic; dearborn, michigan; denver, colorado; europe; france; fuji; hoffman estates, illinois; houston, texas; japan; kodak; london; los angeles; moscow; mountain view, california; new york; oshawa, ontario; paris; poland; princeton, n.j.; rocky mountains; russia; toronto; u.k.; u.s.; united states; us; washington; wto\n",
        "\tGOVERNMENT: boeing ntsb; commerce department; congress; fbi; federal communications commission; labor department; national transportation safety board\n",
        "\tLOCATION: air france\n",
        "\tORGANIZATION: baby bells; canadian auto workers union; columns & commentary legal affairs; company news yahoo censorship; democratic party; european union; fuji photo film; kodak fuji wto; liza mcdonald.; mountain view; pioneer russia moscow pioneer group; u.s. agriculture department; vincent del giudice; vincent del giudice economy profits; world trade organization\n",
        "\tPERSON: brian rooney; chuck hawkins; dave liedtka; david evans; david ward; elizabeth kiesche; hal paul; hargrove; jacqueline simmons; jennifer thomas; jenny tomkins; larry levinson; marc monseau; margaret d. williams; marthe fourcade; monee fields white; noelle knox; peter robison; pioneer group; raphael minder; rob urban; robinson g. clark; roger runningen; sandy hendry; seena simon more earnings news earns ford; virgin atlantic chairman richard branson; will rugg\n",
        "js-16::970414-241_UEM\n",
        "\tCOMPANY: bloomberg general motors corp.; burnham securities; chevrolet; chevrolet venture; directv; first call corp.; general motors acceptance corp.; gm; hughes electronics; opel; saab ab; vauxhall; volkswagen ag; vw\n",
        "\tGEO: asia; cadillac; detroit; europe; latin america; new jersey; north america; ohio; pacific; u.s.; volkswagen\n",
        "\tLOCATION: pontiac\n",
        "\tORGANIZATION: chevrolet malibu; delphi; hughes electronics subsidiary; north american operations; saturn\n",
        "\tPERSON: david healy; healy; losh; michael losh\n",
        "js-16::960624-618_UEM\n",
        "\tCOMPANY: bloomberg general motors corp.; burnham securities; ford; ford motor co.; gm; handelsbanken; hughes; jaguar; jaguar plc; mazda; mazda motor corp.; saab; saab ab; saab auto; saab automobile ab; saab scania ab; scania\n",
        "\tGEO: detroit; germany; hendry; japan; malmo; stockholm; sweden; switzerland; u.k.; u.s.; uk\n",
        "\tLOCATION: u.s.\n",
        "\tORGANIZATION: gm; gm opel; investor ab; jaguar; saturn\n",
        "\tPERSON: butler wheelhouse; david healy; gunnar andersson; hughes; joel manby; lincoln merrihew; louis hughes; nils ingmar lundin; robert hendry; scott merlis; wallenberg\n",
        "js-16::961027-297_UEM\n",
        "\tCOMPANY: bloomberg labor; canadian auto workers; chevrolet; chrysler corp.; ford motor co.; general motors; general motors corp.; gm; nyt; united auto workers and general motors\n",
        "\tEDUCATIONAL: michigan state university\n",
        "\tGEO: detroit; east coast; oklahoma city; pontiac, michigan\n",
        "\tLOCATION: oldsmobile cutlass\n",
        "\tORGANIZATION: canadian auto workers union; gm; north american assembly plants; uaw; uaw local 1999; united auto workers\n",
        "\tPERSON: carl forester; chuck licari; dale brickner\n",
        "js-16::970414-193_UEM\n",
        "\tCOMPANY: bloomberg general motors corp.; burnham securities; chevrolet; chevrolet venture; directv; first call corp.; general motors acceptance corp.; gm; hughes electronics; opel; saab ab; vauxhall; volkswagen ag; vw\n",
        "\tGEO: asia; cadillac; detroit; europe; latin america; new jersey; north america; ohio; pacific; u.s.; volkswagen\n",
        "\tLOCATION: pontiac\n",
        "\tORGANIZATION: chevrolet malibu; hughes electronics subsidiary; saturn\n",
        "\tPERSON: david healy; healy\n",
        "js-16::971102-190_UEM\n",
        "\tCOMPANY: disney co.; general motors; hughes; hughes electronics corp.; nyt; state\n",
        "\tGEO: beijing; beverly hills; beverly hilton; california; china; disneyland; dodger; hollywood; long beach; los angeles; los angeles international airport; o'malley; pacific; southern california; taiwan; tianjin; united states; west coast\n",
        "\tORGANIZATION: buick regal; dalai lama; hs; rupert murdoch; secretary of state warren christopher; walt disney co.\n",
        "\tPERSON: jiang; jiang zemin; mann; mayor beverly o'neill; mayor richard riordan; michael t.; o'malley; pete wilson; peter o'malley; wilson\n",
        "\tSPORTS: dodgers; los angeles dodgers\n",
        "js-16::970911-195_UEM\n",
        "\tCOMPANY: bankgesellschaft berlin ag; bayerische motoren werke ag; beijing jeep; bmw; chrysler; chrysler corp.; daimler benz ag; general motors corp.; gm; ssangyong motor corp.; toyota motor corp.; volkswagen; volkswagen ag; volkswagen automotive co.\n",
        "\tGEO: asia; beijing; china; europe; frankfurt; india; indonesia; malaysia; philippines; shanghai; southeast asia; thailand; u.s.; vietnam; volkswagen\n",
        "\tLOCATION: bejing\n",
        "\tORGANIZATION: association of southeast asian nations asean; automotive news; bloomberg; hamburgische landesbank; mercedes benz; shanghai volkswagen automotive co.\n",
        "\tPERSON: bruno adelt; juergen hubbert; lutz; robert lutz; sebastian stein; stein; ulrich huwald; wolfgang reitzle\n",
        "js-16::971001-822_UEM\n",
        "\tCOMPANY: bloomberg; chrysler; chrysler corp.; commerce; ford; ford motor co.; general motors corp.; gm; japanese transport ministry\n",
        "\tGEO: detroit; japan; korea; kyoto; south korea; u.s.; washington\n",
        "\tGOVERNMENT: congress; white house\n",
        "\tLOCATION: big three; u.s.\n",
        "\tORGANIZATION: american automobile manufacturers association; american automobile manufacturers association which; white house\n",
        "\tPERSON: alex trotman; andrew card; bill clinton; bill day; charlene barshefsky; clinton; mccurry; mike mccurry; robert eaton; trotman; vice president al gore; william daley\n",
        "js-16::970523-288_UEM\n",
        "\tCOMPANY: bloomberg news; boeing; delaware general motors; gm; instinet; market news; mcdonnell douglas; n.y. times news service; national association of securities dealers; new york stock exchange; philadelphia stock exchange; seagate technology; washington boeing\n",
        "\tGEO: chairman; europe; japan; new york; palo alto, california; philadelphia; princeton, n.j.; u.s.; us; washington; wilmington, delaware\n",
        "\tGOVERNMENT: fed; finance ministry; sec; senate; white house\n",
        "\tORGANIZATION: memorial day\n",
        "\tPERSON: andrew pratt; arthur levitt jr.; beth karlin; beth williams; brian lysaght; clinton; dan weil; dave liedtka; david ward; dina temple raston; ken kohn; larry levinson; lisa kassenaar; margaret d. williams; marthe fourcade; mike mccurry; monee fields white; neil roland; nora macaluso; roberto dias; roger madoff; steve dryden; susan miller\n",
        "\tSPORTS: sec\n",
        "js-16::971001-204_UEM\n",
        "\tCOMPANY: bloomberg; chrysler; chrysler corp.; commerce; ford; ford motor co.; general motors corp.; gm; japanese transport ministry\n",
        "\tGEO: detroit; japan; korea; south korea; u.s.; washington\n",
        "\tGOVERNMENT: congress; white house\n",
        "\tLOCATION: u.s.\n",
        "\tORGANIZATION: american automobile manufacturers association; american automobile manufacturers association which; white house\n",
        "\tPERSON: al gore; alex trotman; andrew card; bill clinton; charlene barshefsky; clinton; mccurry; mike mccurry; robert eaton; ryutaro hashimoto; william daley\n",
        "js-16::960822-562_UEM\n",
        "\tCOMPANY: bloomberg; chrysler; chrysler corp.; ford; ford motor co.; general motors; general motors corp.; gm; lehman brothers\n",
        "\tGEO: canada; detroit; flint, michigan; u.s.\n",
        "\tORGANIZATION: canadian auto workers union; canadian union; chrysler; gm; uaw; united auto workers union\n",
        "\tPERSON: alex trotman; jack laskowski; james wheeler; joseph phillippi; robert eaton; stephen yokich; yokich\n",
        "js-16::960731-417_UEM\n",
        "\tCOMPANY: bloomberg general motors corp.; gm; harbour and associates; nissan motor co.\n",
        "\tGEO: lordstown; lordstown, ohio; north america; pontiac; rochester, michigan; u.s.\n",
        "\tLOCATION: pontiac grand prix\n",
        "\tORGANIZATION: gm; saturn; uaw; united auto workers\n",
        "\tPERSON: al alli\n",
        "js-16::970108-585_UEM\n",
        "\tCOMPANY: bear stearns & co.; chrysler corp.; general motors; gm; nyt\n",
        "\tGEO: detroit; japan; new york; u.s.; united states\n",
        "\tORGANIZATION: general motors executives; gm; north american operations\n",
        "\tPERSON: g. richard wagoner jr.; harry pearce; hughes; j. michael losh; louis hughes; nicholas lobaccaro; robert lutz; wagoner\n",
        "js-16::961003-621_UEM\n",
        "\tCOMPANY: bear stearns & co.; bloomberg; canadian auto workers; chrysler; chrysler corp.; ford; general motors; general motors of canada ltd.; gm; gm canada; pontiac sunfire; united auto workers\n",
        "\tGEO: canada; detroit; farmington hills, michigan; new malibu; oklahoma; oklahoma city; oshawa; oshawa, ontario; ottawa; paris; quebec; st. catharines; st. catharines, ontario; ste. therese; tahoe; toronto; u.s.; windsor, ontario\n",
        "\tLOCATION: malibu; north\n",
        "\tORGANIZATION: buick century; caw; chevrolet; csm forecasting; gm; liberal government; monte carlo; oldsmobile achieva; uaw\n",
        "\tPERSON: brown; finance minister paul martin; gary malloy; hargrove; lobaccaro; nicholas lobaccaro; stephen yokich; stew low; therese; wes brown; yokich\n",
        "js-16::960409-428_UEM\n",
        "\tCOMPANY: bloomberg michigan; cfsb bancorp inc.; first chicago nbd corp.; ford; ford motor co.; general motors corp.; gm; kmart; kmart corp.; mitsubishi bank/schroder wertheim; s&p; standard & poor; young & rubicam inc.\n",
        "\tGEO: detroit; michigan; u.s.; wertheim\n",
        "\tGOVERNMENT: federal trade commission\n",
        "\tLOCATION: michigan index\n",
        "\tORGANIZATION: bloomberg michigan index; ford and advertising agency young & rubicam inc\n",
        "\tPERSON: alex trotman\n",
        "js-16::970127-624_UEM\n",
        "\tCOMPANY: bloomberg general motors corp.; chrysler; chrysler corp.; credit suisse first boston; dow jones; ford motor co.; general motors; gm; hughes electronics corp.; lehman brothers; nyt\n",
        "\tGEO: chicago; detroit; ern; gp; michigan; minneapolis; u.s.; us\n",
        "\tLOCATION: us\n",
        "\tORGANIZATION: gm; gm us; gm us <equity> cn ni aut automobiles c us; gm us <equity> gp; lutheran brotherhood; rewrites\n",
        "\tPERSON: brian lysaght; jim walline; joseph phillippi; nicholas colas; phillippi; toni simonetti\n",
        "\tSPORTS: fa\n",
        "js-16::961029-626_UEM\n",
        "\tCOMPANY: bloomberg general motors corp.; canadian auto workers; chevrolet; general motors; gm; nyt; united auto workers\n",
        "\tEDUCATIONAL: university of michigan\n",
        "\tGEO: chicago; detroit; fort wayne; fort wayne, indiana; gp; indianapolis; janesville; janesville, wisconsin; new york; pontiac; pontiac, michigan; tahoe; u.s.; us; yukon\n",
        "\tLOCATION: labor; us; us bq\n",
        "\tORGANIZATION: gm; gm us; gm us <equity> cn ni aut ni mi c us; gm us <equity> gp; uaw; uaw local 2209\n",
        "\tPERSON: brian lysaght; dean witter reynolds; joe burkhamer; ken blaschke; noelle knox; sean mcalinden\n",
        "js-16::970910-420_UEM\n",
        "\tCOMPANY: bloomberg; bloomberg news; chase securities inc.; general motors corp.; merrill lynch & co.; stephens & thompson inc.\n",
        "\tEDUCATIONAL: harris bank/bank of montreal\n",
        "\tGEO: california; chicago; frankfurt; griffin; harris bank; new york; stephens; toronto; u.s.; washington; white house\n",
        "\tGOVERNMENT: commerce department; energy department; fed; federal reserve; labor department; u.s. treasury\n",
        "\tORGANIZATION: fed; federal reserve bank of new york; griffin, kubik, stephens & thompson inc.; labor day; labor department figures\n",
        "\tPERSON: alan greenspan; brian wesbury; cheryl katz; greenspan; herbert hoover; jim glassman; mcdonough; tim o'neill; william mcdonough\n",
        "\tSPORTS: iaa\n",
        "js-16::970523-185_UEM\n",
        "\tCOMPANY: bloomberg news; cbs; cbs lund karmazin new york westinghouse electric; delaware general motors; eurotunnel london eurotunnel; florida palmer wireless; gm; market news; n.y. times news service; yamaichi securities\n",
        "\tGEO: channel tunnel; england; fort myers, florida; france; freres; japan; laura; lazard; london; lund; new york; ogawa; princeton, n.j.; purina; ralston; st. louis; tokyo; washington; wilmington, delaware; yamaichi\n",
        "\tORGANIZATION: bloomberg; laura ashley holdings; lazard freres; moved 9; ogawa securities; price communications\n",
        "\tPERSON: beth karlin; beth williams; brian lysaght; chuck hawkins; hanabusa midori; heather green; jonathan standing; junko fujita; ken kohn; kevin shinkle; larry levinson; mel karmazin; noam neusner; palmer; palmer wireless; patrick mcginnis; patrick mulcahy; peter lund; peter robison; ralston purina; roberto dias; steven rattner; william stiritz\n",
        "js-16::970804-189_UEM\n",
        "\tCOMPANY: abn amro hoare govett; ao sibneft; ba; bloomberg news; british airways; british airways plc; dow chemical co.; financial times; general motors corp.; gm; handi wrap; hsbc; hsbc holdings; hsbc holdings plc; mc securities; mindscape; morgan stanley; painewebber international ltd.; panmure gordon & co.; paribas capital markets; pearson plc; salomon brothers international; sentrachem; sentrachem ltd.; shanghai banking corp.; sibneft; us airways group inc.\n",
        "\tGEO: aut; bonn; britain; detroit; england; europe; france; germany; hong kong; hongkong; iran; israel; johannesburg; london; midland; plunge; russia; south africa; u.k.; u.s.\n",
        "\tGOVERNMENT: bank of england; bundesbank; economics ministry; federal commission for the securities markets; u.s. federal reserve\n",
        "\tLOCATION: pearson; us; west; world\n",
        "\tORGANIZATION: ba; bloomberg news page one; board of directors; dean witter, discover & co.; dow chemical; gm; hongkong and shanghai banking corp.; news business & finance; oracle; scania; teva; treasury services; ups\n",
        "\tPERSON: alison cottrell; anthony de larrinaga; avery; brian lysaght; chris avery; dawn hayes; heather harris; julie bain; kevin gaffney; larry king; margaret soares; nelson mandela; nigel cobby; pearson; peter moreira; peter robison; stephen o'sullivan; william stavropoulos\n",
        "js-16::970804-215_UEM\n",
        "\tCOMPANY: aeltus investment management; bloomberg general motors corp.; chrysler; chrysler corp.; credit suisse first boston; ford motor co.; gm\n",
        "\tGEO: detroit; hartford, connecticut\n",
        "\tPERSON: dibella; jim finn; tom dibella\n",
        "js-16::971018-154_UEM\n",
        "\tCOMPANY: at&t; at&t corp.; british telecommunications plc; cnbc; general motors corp.; gte corp.; hughes; hughes electronics corp.; ibm; mci communications corp.; sbc; sbc communications inc.; sons co.; worldcom inc.\n",
        "\tGEO: armstrong; donnelly\n",
        "\tGOVERNMENT: federal communications commission\n",
        "\tORGANIZATION: armstrong; bell companies; hughes, would replace armstrong; r.r. donnelly and sons co.; sbc; time armstrong\n",
        "\tPERSON: allen; c. michael armstrong; john walter; john zeglis; reed hundt; robert allen; walter; zeglis\n",
        "js-16::971015-530_UEM\n",
        "\tCOMPANY: autopacific inc.; bloomberg general motor corp.; gm; hughes; hughes electronics; merrill lynch; raytheon co.; salomon brothers\n",
        "\tGEO: canada; santa ana, california; u.s.; washington\n",
        "\tGOVERNMENT: sec; securities and exchange commission\n",
        "\tORGANIZATION: defense; gm; hughes defense; hughes electronics defense; uaw; united auto workers union\n",
        "\tPERSON: hall; jim hall; simonetti; toni simonetti\n",
        "js-16::960624-533_UEM\n",
        "\tCOMPANY: bloomberg general motors corp.; burnham securities; ford; ford motor co.; gm; handelsbanken; hughes; jaguar; jaguar plc; mazda; mazda motor corp.; saab; saab ab; saab auto; saab automobile ab; saab scania ab; scania\n",
        "\tGEO: detroit; germany; hendry; japan; malmo; stockholm; sweden; switzerland; u.k.; u.s.; uk\n",
        "\tLOCATION: u.s.\n",
        "\tORGANIZATION: gm; gm opel; investor ab; jaguar; saturn\n",
        "\tPERSON: butler wheelhouse; david healy; gunnar andersson; hughes; joel manby; lincoln merrihew; louis hughes; nils ingmar lundin; robert hendry; scott merlis; wallenberg\n",
        "js-16::970910-536_UEM\n",
        "\tCOMPANY: bloomberg; bloomberg news; chase securities inc.; general motors corp.; merrill lynch & co.; stephens & thompson inc.\n",
        "\tEDUCATIONAL: harris bank/bank of montreal\n",
        "\tGEO: california; chicago; frankfurt; griffin; harris bank; new york; stephens; toronto; u.s.; washington; white house\n",
        "\tGOVERNMENT: commerce department; energy department; fed; federal reserve; labor department; u.s. treasury\n",
        "\tORGANIZATION: fed; federal reserve bank of new york; griffin, kubik, stephens & thompson inc.; labor day; labor department figures\n",
        "\tPERSON: alan greenspan; brian wesbury; cheryl katz; greenspan; herbert hoover; jim glassman; mcdonough; tim o'neill; william mcdonough\n",
        "\tSPORTS: iaa\n",
        "js-16::971104-433_UEM\n",
        "\tCOMPANY: bloomberg; edison electric institute; general motors; general motors corp.; gm; j.p. morgan & co.; morgan stanley; nebraska wheat board; nyt; pioneer railcorp; southern pacific rail corp.; union pacific corp.\n",
        "\tGEO: austin; austin, texas; chicago; dallas; houston; jacksonville, florida; kansas; nebraska; new york; pacific; peoria, illinois; powder river; san antonio, texas; u.s.; washington; wyoming\n",
        "\tGOVERNMENT: city public service of san antonio; federal railroad administration; kansas department of agriculture; treasury; u.s. department of agriculture; u.s. department of energy; usda\n",
        "\tLOCATION: midwest; powder river basin; southern pacific; southwest; union pacific\n",
        "\tORGANIZATION: austin electric utility; conference board; dallas based union pacific corp.; fed; federal reserve; gm; national association of purchasing management; solve union pacific jam; tex mex railway recruited to help solve union pacific jam; treasury; u.s. department of agriculture estimates; u.s. department of energy statistics; union pacific\n",
        "\tPERSON: andy ramirez; barnett banks; carole jordan; chuck linderman; david greenlaw; guy brenkman; john bromley; jordan; linderman; lynn reaser; maas; mark werner; phillips; ronald maas; susan phillips; tom klipstine\n",
        "js-16::970417-432_UEM\n",
        "\tCOMPANY: bloomberg general motors corp.; gm; united auto workers\n",
        "\tGEO: chicago; oklahoma city; u.s.\n",
        "\tORGANIZATION: gm\n",
        "js-16::970822-631_UEM\n",
        "\tCOMPANY: bmw; forbes, food and wine and vanity fair; general motors corp.; gm; interpublic group of cos.; nextrend; opel; saab; saab automobile ab; saab cars usa inc.; volvo\n",
        "\tGEO: detroit; europe; forbes; richmond, va.; sweden; thousand oaks, calif.; united states\n",
        "\tLOCATION: northeast\n",
        "\tORGANIZATION: competitive media reporting; gm; investor ab; martin; martin agency of richmond; saab; saturn\n",
        "\tPERSON: adams; cedergren; christopher cedergren; david garrity; john b. adams jr.; john orth; orth; robert hendry; wallenberg\n",
        "js-16::970804-477_UEM\n",
        "\tCOMPANY: aeltus investment management; bloomberg general motors corp.; burnham securities; chrysler; chrysler corp.; credit suisse first boston; ford; ford motor co.; gm; hughes; hughes raytheon\n",
        "\tGEO: detroit; hartford, connecticut; u.s.\n",
        "\tLOCATION: updates\n",
        "\tORGANIZATION: gm; hughes defense; raytheon co.; standard and poor\n",
        "\tPERSON: david healy; dibella; finn; jim finn; nicholas colas; tom dibella\n",
        "js-16::971225-136_UEM\n",
        "\tCOMPANY: chrysler; credit suisse first boston; daewoo; daewoo corp.; ford; ford motor co.; general motors corp.; gm; hyundai; hyundai accents; hyundai motor co.; kia; kia motors corp.; mazda motor corp.; moody's investors service; nyt; samsung; ssangyong motor co.\n",
        "\tGEO: america; brooklyn; california; irvine, calif.; japan; korea; los angeles; midwood; new york; north america; seoul; south korea; troy, mich.; u.s.; united states; wandering; western europe\n",
        "\tLOCATION: kia sephias; koreans; u.s.\n",
        "\tORGANIZATION: american automobile manufacturers association; american subsidiary; greater los angeles auto show; imf; international monetary fund; kia sephia; planning edge; plaza auto mall\n",
        "\tPERSON: alexander trotman; andrew card jr.; card; clinton; geno effler; john bruno; michael schmall; richard pyo\n",
        "js-16::971014-228_UEM\n",
        "\tCOMPANY: bloomberg general motors corp.; chevrolet; delco electronics; delphi automotive systems; general motors acceptance corp.; gm; hughes electronics; ibes international inc.; j.p. morgan; opel; vauxhall\n",
        "\tGEO: asia pacific; delphi; detroit; europe; latin america; north america; pontiac\n",
        "\tLOCATION: chevrolet malibu; updates\n",
        "\tORGANIZATION: delphi; hughes electronics subsidiary; north american automotive employment; north american brands include chevrolet; north american operations; saturn\n",
        "\tPERSON: bradley; chief financial officer j. michael losh; david bradley; holden; losh\n",
        "js-16::960304-885_UEM\n",
        "\tCOMPANY: chrysler corp.; ford; ford motor co.; general motors; general motors corp.; nyt\n",
        "\tGEO: detroit; motor city; wall street\n",
        "\tPERSON: chris vinyard\n",
        "js-16::970523-483_UEM\n",
        "\tCOMPANY: bloomberg general motors corp.; general motors; gm; margarita del angel del angel\n",
        "\tGEO: dayton, ohio; malibu; mexico; oklahoma; oklahoma city; pontiac, michigan; reynoso; u.s.; warren, ohio; wilmington; wilmington, delaware\n",
        "\tLOCATION: chevrolet malibu; pontiac; u.s.\n",
        "\tORGANIZATION: delphi; gm; uaw; united auto workers\n",
        "\tPERSON: g. richard wagoner; jesse jackson; sister martha counihan; wagoner\n",
        "js-16::970414-153_UEM\n",
        "\tCOMPANY: bloomberg general motors corp.; burnham securities; directv; first call corp.; general motors acceptance corp.; gm; hughes electronics; volkswagen ag; vw\n",
        "\tGEO: detroit; europe; new jersey; north america; ohio; u.s.; volkswagen\n",
        "\tORGANIZATION: hughes electronics subsidiary\n",
        "\tPERSON: david healy; healy\n",
        "js-16::960530-93_UEM\n",
        "\tCOMPANY: argentaria; bloomberg business; bundesbank; chrysler europe; general motors corp.; gm; kaufhof holding ag; london; london south west water plc; lvmh; lvmh moet hennessy louis vuitton sa; mediaset ipo milan mediaset spa; metallgesellschaft; metallgesellschaft ag; n.y. times service; nestle; nestle sa; repsol sa; roland europe spa; swiss metro group; tabacalera sa; telefonica sa; worldcom france paris worldcom inc.\n",
        "\tGEO: brussels; canada; cologne, germany; europe; france; frankfurt; germany; israel; italy; japan; jerusalem; lausanne, switzerland; london; madrid; mideast; milan; paris; spain; u.k.; u.s.; zurich\n",
        "\tGOVERNMENT: bundesbank\n",
        "\tLOCATION: south west\n",
        "\tORGANIZATION: european union; likud; likud party; likud party candidate; swiss american chamber of commerce; united utilities london united utilities plc; world trade organization; wto\n",
        "\tPERSON: benjamin netanyahu; chief executive helmut maucher; james b. kelleher; paul sillitoe; shimon peres; tim adams\n",
        "js-16::970325-13_UEM\n",
        "\tCOMPANY: air china; airbus industrie; bloomberg boeing co.; boeing; china aviation supplies corp.; general motors corp.; gm; nyt; pacific crest securities; pratt & whitney; shanghai automotive industry; shanghai automotive industry corp.; united technologies corp.; united technologies's pratt & whitney division\n",
        "\tGEO: america; beijing; china; europe; gore; japan; missouri; seattle; shanghai; south korea; tiananmen square; u.s.; united states; washington\n",
        "\tGOVERNMENT: congress; house; people's liberation army; u.s. china business council\n",
        "\tLOCATION: u.s.\n",
        "\tORGANIZATION: buick regal; forum for international policy; gm shanghai venture; world trade organization; wto\n",
        "\tPERSON: al gore; arnold kanter; bill whitlow; clinton; david; george bush; george david; gore; jiang zemin; kanter; kapp; li peng; lorraine voles; mark sullivan; richard gephardt; robert kapp; ryutaro hashimoto; sullivan\n",
        "js-16::960822-722_UEM\n",
        "\tCOMPANY: canadian automobile workers; chrysler; chrysler corp.; ford; ford motor co.; general motors corp.; gm\n",
        "\tGEO: canada; detroit; st. clair shores, mich.; toronto\n",
        "\tORGANIZATION: big three; canadian union; labor day; the united automobile workers; uaw; united automobile workers union\n",
        "\tPERSON: alexander trotman; basil; clinton; hargrove; harry pearce; j.t. battenberg iii; richard shoemaker; robert eaton; shoemaker; stephen yokich; yokich\n",
        "js-16::961027-277_UEM\n",
        "\tCOMPANY: bloomberg labor; canadian auto workers; chevrolet; chrysler corp.; ford motor co.; general motors; general motors corp.; gm; nyt; united auto workers and general motors\n",
        "\tEDUCATIONAL: michigan state university\n",
        "\tGEO: detroit; east coast; oklahoma city; pontiac, michigan\n",
        "\tLOCATION: oldsmobile cutlass\n",
        "\tORGANIZATION: canadian auto workers union; gm; north american assembly plants; uaw; uaw local 1999; united auto workers\n",
        "\tPERSON: carl forester; chuck licari; dale brickner\n",
        "js-16::971218-333_UEM\n",
        "\tCOMPANY: bloomberg general motors corp.; boeing co.; delphi; delphi automotive systems; directv; gm; hughes; hughes' delco electronics; lockheed martin corp.; nyt; raytheon; raytheon class a; raytheon systems\n",
        "\tGEO: chancery court; delaware; delphi; detroit\n",
        "\tGOVERNMENT: delaware chancery court\n",
        "\tORGANIZATION: defense; gm; group of class h; hughes defense; raytheon class b; raytheon co.\n",
        "\tPERSON: chief executive dennis picard; dahlberg; hughes; ken dahlberg; swanson; william swanson\n",
        "js-16::970529-127_UEM\n",
        "\tCOMPANY: bloomberg general motors corp.; gm\n",
        "\tGEO: detroit; oklahoma city; pontiac, michigan; u.s.\n",
        "\tORGANIZATION: chevrolet malibu and oldsmobile cutlass\n",
        "js-16::960731-338_UEM\n",
        "\tCOMPANY: bloomberg general motors corp.; general motors; gm\n",
        "\tGEO: lordstown, ohio; rochester, michigan; u.s.\n",
        "\tLOCATION: pontiac grand prix\n",
        "\tORGANIZATION: gm; saturn; united auto workers\n",
        "\tPERSON: al alli\n",
        "js-16::970529-234_UEM\n",
        "\tCOMPANY: bloomberg general motors corp.; delphi automotive systems; gm; hughes electronics corp.; mercedes benz; peugeot; raytheon corp.\n",
        "\tGEO: benz; canada; china; delphi; detroit; guangzhou; malibu; oklahoma; oklahoma city; pontiac, michigan; shanghai; u.s.\n",
        "\tGOVERNMENT: congress; u.s. government\n",
        "\tLOCATION: chevrolet malibu; cutlass; malibu\n",
        "\tORGANIZATION: buick century; chevrolet; hughes electronics corp. defense; oldsmobile cutlass; oldsmobile cutlass ciera; uaw\n",
        "\tPERSON: harry pearce; pearce\n",
        "js-16::970523-145_UEM\n",
        "\tCOMPANY: bloomberg general motors corp.; general motors; gm\n",
        "\tGEO: oklahoma city; pontiac, michigan; wilmington, delaware\n",
        "\tORGANIZATION: united auto workers union\n",
        "js-16::970804-144_UEM\n",
        "\tCOMPANY: bloomberg general motors corp.; gm\n",
        "\tGEO: detroit\n",
        "\tORGANIZATION: board of directors\n",
        "js-16::970529-141_UEM\n",
        "\tCOMPANY: air france; bloomberg news; cuc international; eurotunnel; gazprom; guinness; hfs cuc; hfs inc.; ing group; lvmh; market news; n.y. times news service; nike; rao gazprom\n",
        "\tGEO: beaverton, oregon; brazil; channel tunnel; cuc; detroit; london; moscow; new york; paris; princeton, n.j.; u.k.; u.s.; washington\n",
        "\tLOCATION: grand union; new york; princeton\n",
        "\tPERSON: beth karlin; brian lysaght; christine l. overholt; chuck hawkins; jacqueline simmons; jeff rothfeder; john ryan; ken kohn; larry levinson; martin howell; miles weiss; moet hennessy louis vuitton; monee fields white; peter robison; raymond frenken; roberto dias; yeltsin\n",
        "js-16::971104-255_UEM\n",
        "\tCOMPANY: bloomberg; edison electric institute; general motors; general motors corp.; gm; morgan stanley; nyt; pioneer railcorp; southern pacific rail corp.; union pacific corp.\n",
        "\tGEO: austin; austin, texas; chicago; dallas; houston; jacksonville, florida; kansas; new york; pacific; peoria, illinois; powder river; san antonio, texas; texas; u.s.; washington; wyoming\n",
        "\tGOVERNMENT: city public service of san antonio; federal railroad administration; kansas department of agriculture; treasury; u.s. department of agriculture; u.s. department of energy; usda\n",
        "\tLOCATION: midwest; powder river basin; southern pacific; southwest; union pacific\n",
        "\tORGANIZATION: conference board; dallas based union pacific corp.; fed; federal reserve; gm; lower colorado river authority; national association of purchasing management; u.s. department of agriculture estimates; u.s. department of energy statistics; union pacific\n",
        "\tPERSON: barnett banks; carole jordan; chuck linderman; david greenlaw; guy brenkman; john bromley; jordan; linderman; lynn reaser; mark flippin; mark werner; michael mccluskey; phillips; susan phillips; tom klipstine\n",
        "js-16::970324-797_UEM\n",
        "\tCOMPANY: air china; airbus industrie; bloomberg boeing co.; boeing; china aviation supplies corp.; general motors corp.; gm; nyt; pacific crest securities; pratt & whitney; shanghai automotive industry; shanghai automotive industry corp.; united technologies corp.; united technologies's pratt & whitney division\n",
        "\tGEO: america; beijing; china; europe; gore; japan; missouri; seattle; shanghai; south korea; tiananmen square; u.s.; united states; washington\n",
        "\tGOVERNMENT: congress; house; people's liberation army; u.s. china business council\n",
        "\tLOCATION: u.s.; updates\n",
        "\tORGANIZATION: buick regal; forum for international policy; gm shanghai venture; world trade organization; wto\n",
        "\tPERSON: al gore; arnold kanter; bill whitlow; clinton; david; george bush; george david; gore; jiang zemin; kanter; kapp; li peng; lorraine voles; mark sullivan; premier li peng; richard gephardt; robert kapp; ryutaro hashimoto; sullivan\n",
        "js-16::970218-1640_UEM\n",
        "\tCOMPANY: delco; delco electronics corp.; delphi; delphi automotive systems; ford; ford motor co.; general motors corp.; gm; hughes; hughes electronics corp.; j.p. morgan securities inc.; nyt; opel; pentagon; volkswagen\n",
        "\tGEO: delco; delphi; detroit; germany; switzerland; united states; washington\n",
        "\tGOVERNMENT: justice department\n",
        "\tORGANIZATION: associates; delco; gm; raytheon co.\n",
        "\tPERSON: clinton; david bradley; harry pearce; jose ignacio lopez de arriortua; lopez; plato cacheris; robert rubin\n",
        "js-16::971014-322_UEM\n",
        "\tCOMPANY: bloomberg general motors corp.; chevrolet; credit suisse first boston; delco electronics; delphi; delphi automotive systems; general motors acceptance corp.; gm; hughes electronics; ibes international inc.; j.p. morgan; opel; vauxhall\n",
        "\tGEO: asia pacific; delphi; detroit; europe; latin america; north america; pontiac\n",
        "\tLOCATION: chevrolet malibu; updates\n",
        "\tORGANIZATION: credit suisse first boston analyst; delphi; gm; gm chief financial officer; hughes electronics subsidiary; north american automotive employment; north american brands include chevrolet; north american operations; saturn\n",
        "\tPERSON: david bradley; holden; j. michael losh; losh; nicholas colas\n",
        "js-16::970630-489_UEM\n",
        "\tCOMPANY: bloomberg general motors corp.; burnham securities; chevrolet; credit suisse first boston; delco electronics; delphi automotive systems; gm; hughes electronics corp.; ibes international inc.\n",
        "\tGEO: delphi; detroit; malibu; oklahoma city; pontiac; pontiac, michigan; u.s.\n",
        "\tGOVERNMENT: sec; securities and exchange commission\n",
        "\tLOCATION: pontiac\n",
        "\tORGANIZATION: chevrolet malibu; north american plants; oldsmobile cutlass; united auto workers\n",
        "\tPERSON: david healy; nick colas\n",
        "js-16::960103-581_UEM\n",
        "\tCOMPANY: american stock exchange; borland; borland international inc.; chrysler; chrysler corp.; detroit general motors corp.; deutsche bank ag; deutsche morgan grenfell; dow jones news service; dreyer's grand ice cream inc.; gm; goldman, sachs & co.; ibm; information international inc.; mgm/ua communications co.; motorola; motorola inc.; new york exchange; new york stock exchange; new york volt information sciences inc.; nyse; nyt; pixar; pixar inc.; sec washington spanish broadcasting system inc.; u.s. newspaper budget; walt disney co.\n",
        "\tGEO: detroit; eaton; georgia; germany; gp; gpo; grenfell; mgm; new york; nyse; oakland, california; point richmond, california; princeton, n.j.; schaumburg, illinois; scotts valley, california; sikeston, missouri; swine; u.s.; union city, california; us; washington; york\n",
        "\tGOVERNMENT: fcc sec; house; house of representatives; sec; securities and exchange commission; senate; u.s. treasury\n",
        "\tLOCATION: the senate\n",
        "\tORGANIZATION: american institute of certified public accountants; bloomberg; defense; deutsche morgan grenfell; eastern daylight time; gm us; gm us <equity> gpo; house speaker newt gingrich; mot us <equity> cn; ni mnb; ni scr; nyse; securities; story; story illustration; the securities and exchange commission; us <equity> cn; us <equity> gpo; volt us equity cn; volt us equity des5\n",
        "\tPERSON: andrew galvin; betsy rosen; bill clinton; bob brennan; brian lysaght; chief financial officer james groberg; clinton; dan morrison; dave liedtka; david sklaver; david zielenziger; dreyer; eaton; fidel castro; giancarlo parretti; heather green; jacobson; jerome york; john pickering; karen fessler; ken kohn; lynne marek; michael stroud; mike streeto; miles weiss; neil roland; noelle knox; paul jacobson; philippe kahn; robert eaton; roberto dias; scott schnipper; sklaver; ted hampton; todd blecher; tom murphy; wells rich; wells rich and sklaver; wells rich greene; william f. miller\n",
        "js-16::960103-529_UEM\n",
        "\tCOMPANY: bausch & lomb inc.; bloomberg general motors corp.; chrysler corp.; ford motor co.; gm; north american international auto show; nyt; saab; saab automobile ab\n",
        "\tGEO: asia; china; detroit; india; indonesia; japan; u.s.\n",
        "\tLOCATION: chevrolet malibu; pontiac grand prix\n",
        "\tORGANIZATION: cadillac catera; chevrolet cavalier; north american operations; saturn\n",
        "\tPERFORMING: chevrolet malibu and buick century\n",
        "\tPERSON: g. richard wagoner; ronald zarrella; wagoner; zarrella\n",
        "js-16::960520-528_UEM\n",
        "\tCOMPANY: airbus industrie; atmi; bloomberg; boeing; boeing co.; cnbc; general motors; gm; j.c. penney co.; nike; walmart\n",
        "\tGEO: america; beijing; china; india; indonesia; industrie; j.c. penney co; kansas; mississippi; pacific; pakistan; seattle; taiwan; u.s.; washington\n",
        "\tGOVERNMENT: congress; house; senate\n",
        "\tLOCATION: america; u.s. china\n",
        "\tORGANIZATION: american textile manufacturers institute; gm; mfn; nam; national association of manufacturers; national retail federation; nrf; pacific basin economic council; white house\n",
        "\tPERSON: bill clinton; chris villiers; clinton; cochran; dole; donna gibbs; george bush; james fitzgibbons; jerry jasinowski; mike mccurry; mullin; sen. robert dole; sen. thad cochran; tracy mullin\n",
        "js-16::971105-177_UEM\n",
        "\tCOMPANY: bloomberg; edison electric institute; general motors; general motors corp.; gm; morgan stanley; nebraska wheat board; nyt; pioneer railcorp; southern pacific rail corp.; union pacific corp.\n",
        "\tGEO: austin; austin, texas; chicago; dallas; houston; jacksonville, florida; kansas; nebraska; new york; pacific; peoria, illinois; powder river; san antonio, texas; u.s.; washington; wyoming\n",
        "\tGOVERNMENT: city public service of san antonio; federal railroad administration; kansas department of agriculture; u.s. department of agriculture; u.s. department of energy; usda\n",
        "\tLOCATION: midwest; powder river basin; southwest; union pacific\n",
        "\tORGANIZATION: austin electric utility; dallas based union pacific corp.; fed; federal reserve; gm; u.s. department of agriculture estimates; u.s. department of energy statistics; union pacific\n",
        "\tPERSON: andy ramirez; barnett banks; carole jordan; chuck linderman; david greenlaw; guy brenkman; john bromley; jordan; linderman; lynn reaser; maas; mark werner; phillips; ronald maas; susan phillips; tom klipstine\n",
        "js-16::970109-669_UEM\n",
        "\tCOMPANY: burnham securities; general motors; general motors corp.; gm; nyt; volkswagen; volkswagen ag; vw\n",
        "\tGEO: darmstadt; darmstadt, germany; detroit; europe; germany; hauer; piech; u.s.; washington; wolfsburg, germany\n",
        "\tGOVERNMENT: justice department\n",
        "\tLOCATION: earnest; gump\n",
        "\tORGANIZATION: gm; hauer & feld; piech of volkswagen; volkswagen board of supervisors\n",
        "\tPERSON: cacheris; david healy; ferdinand piech; jens neumann; john smale; jose ignacio lopez de arriortua; klaus liesen; liesen; lopez; neumann; piech; plato cacheris; robert strauss; smale; strauss; thomas gottschalk\n",
        "js-16::970110-704_UEM\n",
        "\tCOMPANY: for general motors; general motors; gm; handelsblatt; nyt; opel; volkswagen; vw\n",
        "\tGEO: dresden; frankfurt; germany; new york; united states; wolfsburg, germany\n",
        "\tORGANIZATION: gm; gm lawyers; nueste nachrichten\n",
        "\tPERSON: ferdinand piech; gottschalk; harry pearce; klaus kocks; lopez; louis hughes; pearce\n",
        "js-16::960822-556_UEM\n",
        "\tCOMPANY: bloomberg; chrysler; chrysler corp.; ford; ford motor co.; general motors; general motors corp.; gm; lehman brothers\n",
        "\tGEO: canada; detroit; flint, michigan; u.s.\n",
        "\tORGANIZATION: canadian auto workers union; canadian union; chrysler; gm; uaw; united auto workers union\n",
        "\tPERSON: alex trotman; jack laskowski; james wheeler; joseph phillippi; robert eaton; stephen yokich; yokich\n",
        "js-16::970127-316_UEM\n",
        "\tCOMPANY: bloomberg general motors corp.; credit suisse first boston; general motors; gm; hughes electronics corp.; nyt\n",
        "\tGEO: chicago; detroit; ern; gp; michigan; u.s.; us\n",
        "\tLOCATION: us\n",
        "\tORGANIZATION: gm us; gm us <equity> cn ni aut automobiles c us; gm us <equity> gp\n",
        "\tPERSON: brian lysaght; nicholas colas\n",
        "\tSPORTS: fa\n",
        "js-16::960524-317_UEM\n",
        "\tCOMPANY: bloomberg; bloomberg business news; bloomberg scoop meriwether success new york long term capital management; coldwell banker corp.; delaware general motors corp.; dow jones; ftc washington pepsico inc.; general electric co.; gm; harveys casino resorts; hfs financing business new york hfs inc.; market news; masland corp.; merrill indiana new york merrill lynch & co.; michigan lear corp.; n.y. times news service; thomson corp.; varity corp.; varity london lucas industries plc; virginia optical cable corp.; west publishing co.\n",
        "\tEDUCATIONAL: georgia hidden valley resort\n",
        "\tGEO: beijing; california; canada; china; council bluffs, iowa; dawsonville, georgia; ftc; harveys; hidden valley; indiana; lake tahoe; london; meriwether; n.y.; nevada; new york; philadelphia; princeton, n.j.; roanoke, virginia; southfield, michigan; toronto; u.s.; us; washington; wilmington, delaware\n",
        "\tGOVERNMENT: federal reserve; federal reserve bank of philadelphia; japanese ministry of finance; justice department\n",
        "\tLOCATION: georgia; indiana\n",
        "\tORGANIZATION: columns & commentary spotlight thomson; council bluffs; frito lay; vincent del giudice\n",
        "\tPERSON: adam levy; anne marie squeo; betsy kuller; betsy rosen; bill clinton; bob dole; brian lysaght; brian rooney; carrick mollenkamp; clinton; dan morrison; dan weil; dave liedtka; dina temple raston; hal paul; john gorham; john meriwether; john pickering; katherine burton; ken kohn; larry levinson; long term capital management; marthe fourcade; mike mckee; mike streeto; noelle knox; reed landberg; robert kopstein; roberto dias; sandy hendry; scott schnipper; steve forbes; ted hampton; tim coulter; tom ferraro\n",
        "\tSPORTS: clinton calif washington\n",
        "js-16::970218-497_UEM\n",
        "\tCOMPANY: bloomberg general motors corp.; ford motor co.; gm; nyt; toyota motor corp.\n",
        "\tGEO: cadillac; catera; detroit; europe; fleetwood; lincoln\n",
        "\tORGANIZATION: allison transmission division; cadillac; gm; gm europe\n",
        "\tPERSON: john grettenberger; lincoln merrihew; merrihew\n",
        "js-16::970529-313_UEM\n",
        "\tCOMPANY: bloomberg general motors corp.; delphi automotive systems; electronic data systems corp.; gm; hughes electronics corp.; mercedes benz; opel astra; peugeot; raytheon corp.\n",
        "\tGEO: benz; canada; china; delphi; detroit; guangzhou; malibu; oklahoma; oklahoma city; pontiac, michigan; shanghai; u.s.\n",
        "\tGOVERNMENT: congress; u.s. government\n",
        "\tLOCATION: chevrolet malibu; cutlass; guangzhou province; malibu\n",
        "\tORGANIZATION: buick century; chevrolet; hughes electronics corp. defense; oldsmobile cutlass; oldsmobile cutlass ciera; uaw\n",
        "\tPERSON: harry pearce; pearce\n",
        "js-16::960918-379_UEM\n",
        "\tCOMPANY: bloomberg; chrysler; chrysler corp.; delphi automotive systems; ford; ford motor co.; general motors corp.; gm; lehman brothers\n",
        "\tEDUCATIONAL: university of california at berkeley\n",
        "\tGEO: buffaloes; colorado; delphi; detroit; gp; michigan; princeton; u.s.\n",
        "\tLOCATION: berkeley; labor; us; us <equity> bq\n",
        "\tORGANIZATION: ford; gm; ni aut; uaw; united auto workers\n",
        "\tPERSON: alexander trotman; brian lysaght; harley shaiken; joseph phillippi; noelle knox; stephen yokich; yokich\n",
        "\tSPORTS: michigan wolverines\n",
        "js-16::970530-167_UEM\n",
        "\tCOMPANY: bloomberg news; deere & co.; ford motor co.; general motors corp.; gm; napm\n",
        "\tGEO: chicago; harris bank; midwest; moline, illinois; new york; u.s.; washington\n",
        "\tGOVERNMENT: federal reserve; u.s. treasury\n",
        "\tLOCATION: midwestern\n",
        "\tORGANIZATION: bloomberg; chicago purchasing management association; federal reserve; group; harris bank/bank of montreal; illinois based deere & co.; napm; national association of purchasing management; purchasing management association of chicago\n",
        "\tPERSON: deere chief executive hans becherer; rick egelton\n",
        "js-16::970815-375_UEM\n",
        "\tCOMPANY: aig; american international group; b.a.t industries plc; bloomberg news; canada dominion textile montreal dominion textile; delta mullin atlanta delta airlines; gillette; gm; healthcor dallas healthcor holdings; houston industries forum new york houston industries; houston lighting & power co.; kentucky ashland inc.; market news; michigan general motors; n.y. times news service; new york times news; newbridge; newbridge networks; northern telecom; pearson plc; prudential; prudential sale boston prudential insurance co. of america; samsonite denver samsonite; texaco; toronto maple leaf foods; united auto workers\n",
        "\tGEO: america; ashland; atlanta; azteca; boston; california; canada; chestnut hill, massachusetts; dallas; denver; donaldsonville, louisiana; falconbridge; flint, michigan; hobbs, new mexico; houston; ireland; italy; maple leaf; mexico; mexico city; michigan; montreal; mullin; n.y.; new mexico; new york; princeton, n.j.; prudential; russell, kentucky; sacramento, california; silicon valley; sudbury, ontario; textile; toronto; u.s.; us; washington; west palm beach; westmont, illinois; ypsilanti, michigan\n",
        "\tGOVERNMENT: bank of canada; fed\n",
        "\tLOCATION: new york\n",
        "\tORGANIZATION: bj del conte; bloomberg; central bank; chestnut hill; delta; falconbridge; hobbs; prudential center office; russell; texaco; westmont\n",
        "\tPERSON: becky estenssoro; becky philips; beth karlin; beth williams; brian lysaght; christine l. overholt; chuck hawkins; corey goldman; douglas steinke; greenspan; greg groeller; harcourt general; jeanie stokes; jennifer del medico; kathleen sullivan; ken kohn; kerry dooley; leo mullin; lisa kassenaar; marion gammill; mark evans; mary schlangenstein; nick olivari; noam neusner; paul brent; philip boroff; rachel flynn; rachel layne; robert burgess; roberto dias; ron allen; sam greene; sam zuckerman; seena simon\n",
        "js-16::971014-163_UEM\n",
        "\tCOMPANY: bloomberg general motors corp.; chevrolet; delco electronics; delphi automotive systems; general motors acceptance corp.; gm; hughes electronics; ibes international inc.; j.p. morgan; opel; vauxhall\n",
        "\tGEO: asia pacific; delphi; detroit; europe; latin america; north america; pontiac\n",
        "\tLOCATION: chevrolet malibu\n",
        "\tORGANIZATION: delphi; hughes electronics subsidiary; north american automotive employment; north american brands include chevrolet; north american operations; saturn\n",
        "\tPERSON: bradley; david bradley; holden\n",
        "js-16::960624-471_UEM\n",
        "\tCOMPANY: bloomberg general motors corp.; burnham securities; ford; ford motor co.; gm; handelsbanken; hughes; investor ab; jaguar; jaguar plc; saab; saab ab; saab auto; saab automobile ab; saab scania ab; scania\n",
        "\tGEO: detroit; hendry; stockholm; sweden; u.k.; u.s.; uk\n",
        "\tORGANIZATION: investor ab; jaguar productivity; saturn; scania\n",
        "\tPERSON: anders rydin; butler wheelhouse; david healy; gunnar andersson; joel manby; keith butler wheelhouse; louis hughes; lundin; marcus wallenberg; mark tanner; nils ingmar lundin; olle axelsson; robert hendry; wallenberg\n",
        "js-16::970529-543_UEM\n",
        "\tCOMPANY: bloomberg general motors corp.; delphi automotive systems; electronic data systems corp.; gm; hughes electronics corp.; mercedes benz; opel astra; peugeot; raytheon corp.\n",
        "\tGEO: benz; canada; china; delphi; detroit; guangzhou; malibu; oklahoma; oklahoma city; pontiac, michigan; shanghai; u.s.\n",
        "\tGOVERNMENT: congress; u.s. government\n",
        "\tLOCATION: chevrolet malibu; cutlass; guangzhou province; malibu; updates\n",
        "\tORGANIZATION: buick century; chevrolet; hughes electronics corp. defense; oldsmobile cutlass; oldsmobile cutlass ciera; uaw\n",
        "\tPERSON: harry pearce; pearce\n",
        "js-16::970127-308_UEM\n",
        "\tCOMPANY: bloomberg general motors corp.; credit suisse first boston; gm; hughes electronics corp.; nyt\n",
        "\tGEO: detroit\n",
        "\tORGANIZATION: rewrites\n",
        "\tPERSON: nicholas colas\n"
       ]
      }
     ],
     "prompt_number": 51
    },
    {
     "cell_type": "code",
     "collapsed": false,
     "input": [
      "def doc_index(sf_data, doc):\n",
      "    return sf_data['doc-index-map'][doc]\n",
      "\n",
      "def sf_index(sf_data, sf):\n",
      "    return sf_data['sf-index-map'][sf]\n",
      "\n",
      "def get_docs(sf_data, i):\n",
      "    sf = sf_map[i]\n",
      "    return sf_data['sf-docs'][sf]\n",
      "\n",
      "def get_sfs(sf_data, i):\n",
      "    doc = doc_map[i]\n",
      "    return sf_data['doc-sfs'][doc]"
     ],
     "language": "python",
     "metadata": {},
     "outputs": [],
     "prompt_number": 14
    },
    {
     "cell_type": "code",
     "collapsed": false,
     "input": [
      "def llr(sf_data, sums, i1, i2):\n",
      "    #i1 = sf_index(sf_data, sf1)\n",
      "    #i2 = sf_index(sf_data, sf2)\n",
      "    # compute actuaL cell frequencies\n",
      "    # - outer cells\n",
      "    ndd = float(sf_data['next-doc-index'])\n",
      "    npd = float(sums[0,i1])\n",
      "    ndp = float(sums[0,i2])\n",
      "    nnd = ndd - npd \n",
      "    ndn = ndd - ndp\n",
      "    # - inner cells\n",
      "    docs = [i for i in get_docs(sf_data, i1) if i in get_docs(sf_data, i2)]\n",
      "    npp = float(len(docs))\n",
      "    npn = npd - npp\n",
      "    nnp = ndp - npp\n",
      "    nnn = nnd - nnp\n",
      "    # compute (randomly) predicted cell frequencies\n",
      "    enn = nnd * ndn / ndd\n",
      "    enp = nnd * ndp / ndd\n",
      "    epn = npd * ndn / ndd\n",
      "    epp = npd * ndp / ndd\n",
      "    # compute log-likelihood ratio\n",
      "    result = 0.0\n",
      "    if nnn > 0: result += nnn * np.log(nnn / enn)\n",
      "    if nnp > 0: result += nnp * np.log(nnp / enp)\n",
      "    if npn > 0: result += npn * np.log(npn / epn)\n",
      "    if npp > 0: result += npp * np.log(npp / epp)\n",
      "    return 2.0 * result\n",
      "    "
     ],
     "language": "python",
     "metadata": {},
     "outputs": [],
     "prompt_number": 15
    },
    {
     "cell_type": "code",
     "collapsed": false,
     "input": [
      "chi_square_cut_off = 3.841\n",
      "#chi_square_cut_off = 6.635\n",
      "#chi_square_cut_off = 0.01\n",
      "nrow2 = ncol2 = sf_data[\"next-sf-index\"]\n",
      "S2 = lil_matrix((nrow2, ncol2))"
     ],
     "language": "python",
     "metadata": {},
     "outputs": [],
     "prompt_number": 16
    },
    {
     "cell_type": "code",
     "collapsed": false,
     "input": [
      "start = time.time()\n",
      "for i in range(nrow2):\n",
      "    for j in get_docs(sf_data, i):\n",
      "        for k in get_sfs(sf_data, j):\n",
      "            if S2[i,k] > 0: continue\n",
      "            else:\n",
      "                ratio = llr(sf_data, sums, i, k)\n",
      "                if ratio > chi_square_cut_off: \n",
      "                    S2[i,k] = ratio\n",
      "                    S2[k,i] = ratio\n",
      "finish = time.time()\n",
      "print '\\ttook %0.3f s' % (finish-start)\n"
     ],
     "language": "python",
     "metadata": {},
     "outputs": [
      {
       "output_type": "stream",
       "stream": "stdout",
       "text": [
        "\ttook 8.478 s\n"
       ]
      }
     ],
     "prompt_number": 17
    },
    {
     "cell_type": "code",
     "collapsed": false,
     "input": [
      "start = time.time()\n",
      "nrow = sf_data[\"next-doc-index\"]\n",
      "ncol = sf_data[\"next-sf-index\"]  \n",
      "X = lil_matrix((nrow, ncol))\n",
      "for i in range(nrow):\n",
      "    indices = get_sfs(sf_data, i)\n",
      "    X[i,:] = S2[indices,:].sum(axis=0) / len(indices)\n",
      "finish = time.time()\n",
      "print '\\ttook %0.3f s' % (finish-start)"
     ],
     "language": "python",
     "metadata": {},
     "outputs": [
      {
       "output_type": "stream",
       "stream": "stdout",
       "text": [
        "\ttook 55.383 s\n"
       ]
      }
     ],
     "prompt_number": 18
    },
    {
     "cell_type": "code",
     "collapsed": false,
     "input": [
      "from sklearn.cluster import KMeans, MiniBatchKMeans\n",
      "from sklearn.decomposition import TruncatedSVD\n",
      "from sklearn import metrics\n",
      "from sklearn.preprocessing import Normalizer\n",
      "nclusters = 35\n",
      "ncomponents = 58"
     ],
     "language": "python",
     "metadata": {},
     "outputs": [],
     "prompt_number": 19
    },
    {
     "cell_type": "code",
     "collapsed": false,
     "input": [
      "def evaluate_kmeans(data, nclusters=nclusters, ncomponents=ncomponents):\n",
      "    num_rows, num_cols = data.shape\n",
      "    print num_rows, num_cols\n",
      "    if num_cols > ncomponents:\n",
      "        lsa = TruncatedSVD(ncomponents)\n",
      "        Y = lsa.fit_transform(data)\n",
      "        Y = Normalizer(copy=False).fit_transform(Y)\n",
      "    else: \n",
      "        Y = data.todense()\n",
      "        ncomponents = num_cols\n",
      "    km = KMeans(n_clusters=nclusters, init='k-means++', max_iter=100, n_init=1,verbose=True)\n",
      "    km.fit(Y)\n",
      "    np.savetxt(\"/home/disambiguation/data/data-%d.csv\" % ncomponents, Y, delimiter=\",\")\n",
      "    print(\"Homogeneity: %0.3f\" % metrics.homogeneity_score(labels, km.labels_)) \n",
      "    print(\"Completeness: %0.3f\" % metrics.completeness_score(labels, km.labels_))\n",
      "    print(\"V-measure: %0.3f\" % metrics.v_measure_score(labels, km.labels_))\n",
      "    return km"
     ],
     "language": "python",
     "metadata": {},
     "outputs": [],
     "prompt_number": 34
    },
    {
     "cell_type": "code",
     "collapsed": false,
     "input": [
      "evaluate_kmeans(S, nclusters=35, ncomponents=58)"
     ],
     "language": "python",
     "metadata": {},
     "outputs": [
      {
       "output_type": "stream",
       "stream": "stdout",
       "text": [
        "189 3727\n",
        "Initialization complete"
       ]
      },
      {
       "output_type": "stream",
       "stream": "stdout",
       "text": [
        "\n",
        "Iteration  0, inertia 98.755\n",
        "Iteration  1, inertia 66.129\n",
        "Iteration  2, inertia 66.017\n",
        "Converged at iteration 2\n",
        "Homogeneity: 0.832\n",
        "Completeness: 0.525\n",
        "V-measure: 0.643\n"
       ]
      },
      {
       "metadata": {},
       "output_type": "pyout",
       "prompt_number": 35,
       "text": [
        "KMeans(copy_x=True, init='k-means++', max_iter=100, n_clusters=35, n_init=1,\n",
        "    n_jobs=1, precompute_distances=True, random_state=None, tol=0.0001,\n",
        "    verbose=True)"
       ]
      }
     ],
     "prompt_number": 35
    },
    {
     "cell_type": "code",
     "collapsed": false,
     "input": [
      "evaluate_kmeans(X, nclusters=35, ncomponents=58)"
     ],
     "language": "python",
     "metadata": {},
     "outputs": [
      {
       "output_type": "stream",
       "stream": "stdout",
       "text": [
        "189 3727\n",
        "Initialization complete"
       ]
      },
      {
       "output_type": "stream",
       "stream": "stdout",
       "text": [
        "\n",
        "Iteration  0, inertia 71.383\n",
        "Iteration  1, inertia 46.353\n",
        "Iteration  2, inertia 46.114\n",
        "Iteration  3, inertia 46.084\n",
        "Converged at iteration 3\n",
        "Homogeneity: 0.866\n",
        "Completeness: 0.555\n",
        "V-measure: 0.677\n"
       ]
      },
      {
       "metadata": {},
       "output_type": "pyout",
       "prompt_number": 45,
       "text": [
        "KMeans(copy_x=True, init='k-means++', max_iter=100, n_clusters=35, n_init=1,\n",
        "    n_jobs=1, precompute_distances=True, random_state=None, tol=0.0001,\n",
        "    verbose=True)"
       ]
      }
     ],
     "prompt_number": 45
    },
    {
     "cell_type": "code",
     "collapsed": false,
     "input": [
      "evaluate_kmeans(hstack([S,X]), nclusters=35, ncomponents=58)"
     ],
     "language": "python",
     "metadata": {},
     "outputs": [
      {
       "output_type": "stream",
       "stream": "stdout",
       "text": [
        "189 7454\n",
        "Initialization complete"
       ]
      },
      {
       "output_type": "stream",
       "stream": "stdout",
       "text": [
        "\n",
        "Iteration  0, inertia 72.325\n",
        "Iteration  1, inertia 49.333\n",
        "Iteration  2, inertia 49.204\n",
        "Converged at iteration 2\n",
        "Homogeneity: 0.837\n",
        "Completeness: 0.534\n",
        "V-measure: 0.652\n"
       ]
      },
      {
       "metadata": {},
       "output_type": "pyout",
       "prompt_number": 37,
       "text": [
        "KMeans(copy_x=True, init='k-means++', max_iter=100, n_clusters=35, n_init=1,\n",
        "    n_jobs=1, precompute_distances=True, random_state=None, tol=0.0001,\n",
        "    verbose=True)"
       ]
      }
     ],
     "prompt_number": 37
    },
    {
     "cell_type": "heading",
     "level": 4,
     "metadata": {},
     "source": [
      "Investigate Topic Features"
     ]
    },
    {
     "cell_type": "code",
     "collapsed": false,
     "input": [
      "def get_topic_data(home, group, update=False):\n",
      "  start = time.time()\n",
      "  path = '%s/output/entity/%s/topic-data.json' % (home, group)\n",
      "  fp = codecs.open(path, 'r', 'UTF-8')\n",
      "  topic_data = simplejson.load(fp)\n",
      "  fp.close()\n",
      "  ntopics = topic_data[\"number-of-topics\"]  \n",
      "  TS = lil_matrix((nrow, ntopics))\n",
      "  for key, value in topic_data['document_topics'].iteritems():\n",
      "    for doc, topics in value.iteritems():\n",
      "      doc_key = \"%s::%s_UEM\" % (key, doc[:-9])\n",
      "      i = sf_data['doc-index-map'][doc_key]\n",
      "      for t, w, _ in topics: TS[i,t] = w\n",
      "  TS = TS.tocsc()\n",
      "  finish = time.time()\n",
      "  print '\\ttook %0.3f s' % (finish-start)\n",
      "  return topic_data, TS"
     ],
     "language": "python",
     "metadata": {},
     "outputs": [],
     "prompt_number": 38
    },
    {
     "cell_type": "code",
     "collapsed": false,
     "input": [
      "topic_data, TS = get_topic_data(home, group, update=False)\n",
      "print TS.shape"
     ],
     "language": "python",
     "metadata": {},
     "outputs": [
      {
       "output_type": "stream",
       "stream": "stdout",
       "text": [
        "\ttook 0.007 s\n",
        "(189, 12)\n"
       ]
      }
     ],
     "prompt_number": 39
    },
    {
     "cell_type": "code",
     "collapsed": false,
     "input": [
      "sf_data['doc-index-map'][\"js-13::960920-114_UEM\"]"
     ],
     "language": "python",
     "metadata": {},
     "outputs": [
      {
       "metadata": {},
       "output_type": "pyout",
       "prompt_number": 31,
       "text": [
        "2"
       ]
      }
     ],
     "prompt_number": 31
    },
    {
     "cell_type": "code",
     "collapsed": false,
     "input": [
      "TS[2,6]"
     ],
     "language": "python",
     "metadata": {},
     "outputs": [
      {
       "metadata": {},
       "output_type": "pyout",
       "prompt_number": 32,
       "text": [
        "0.0"
       ]
      }
     ],
     "prompt_number": 32
    },
    {
     "cell_type": "code",
     "collapsed": false,
     "input": [
      "evaluate_kmeans(TS, nclusters=35, ncomponents=58)"
     ],
     "language": "python",
     "metadata": {},
     "outputs": [
      {
       "output_type": "stream",
       "stream": "stdout",
       "text": [
        "189 12\n",
        "Initialization complete\n",
        "Iteration  0, inertia 3.469\n",
        "Iteration  1, inertia 2.391\n",
        "Iteration  2, inertia 2.377\n",
        "Iteration  3, inertia 2.374\n",
        "Converged at iteration 3\n",
        "Homogeneity: 0.666\n",
        "Completeness: 0.469\n",
        "V-measure: 0.550\n"
       ]
      },
      {
       "metadata": {},
       "output_type": "pyout",
       "prompt_number": 40,
       "text": [
        "KMeans(copy_x=True, init='k-means++', max_iter=100, n_clusters=35, n_init=1,\n",
        "    n_jobs=1, precompute_distances=True, random_state=None, tol=0.0001,\n",
        "    verbose=True)"
       ]
      }
     ],
     "prompt_number": 40
    },
    {
     "cell_type": "code",
     "collapsed": false,
     "input": [
      "evaluate_kmeans(hstack([S,TS]), nclusters=35, ncomponents=58)"
     ],
     "language": "python",
     "metadata": {},
     "outputs": [
      {
       "output_type": "stream",
       "stream": "stdout",
       "text": [
        "189 3739\n",
        "Initialization complete"
       ]
      },
      {
       "output_type": "stream",
       "stream": "stdout",
       "text": [
        "\n",
        "Iteration  0, inertia 96.271\n",
        "Iteration  1, inertia 65.665\n",
        "Iteration  2, inertia 65.314\n",
        "Iteration  3, inertia 65.008\n",
        "Converged at iteration 3\n",
        "Homogeneity: 0.759\n",
        "Completeness: 0.481\n",
        "V-measure: 0.589\n"
       ]
      },
      {
       "metadata": {},
       "output_type": "pyout",
       "prompt_number": 41,
       "text": [
        "KMeans(copy_x=True, init='k-means++', max_iter=100, n_clusters=35, n_init=1,\n",
        "    n_jobs=1, precompute_distances=True, random_state=None, tol=0.0001,\n",
        "    verbose=True)"
       ]
      }
     ],
     "prompt_number": 41
    },
    {
     "cell_type": "code",
     "collapsed": false,
     "input": [
      "evaluate_kmeans(hstack([X,TS]), nclusters=35, ncomponents=58)"
     ],
     "language": "python",
     "metadata": {},
     "outputs": [
      {
       "output_type": "stream",
       "stream": "stdout",
       "text": [
        "189 3739\n",
        "Initialization complete"
       ]
      },
      {
       "output_type": "stream",
       "stream": "stdout",
       "text": [
        "\n",
        "Iteration  0, inertia 72.485\n",
        "Iteration  1, inertia 47.878\n",
        "Iteration  2, inertia 47.622\n",
        "Iteration  3, inertia 47.581\n",
        "Converged at iteration 3\n",
        "Homogeneity: 0.839\n",
        "Completeness: 0.545\n",
        "V-measure: 0.660\n"
       ]
      },
      {
       "metadata": {},
       "output_type": "pyout",
       "prompt_number": 42,
       "text": [
        "KMeans(copy_x=True, init='k-means++', max_iter=100, n_clusters=35, n_init=1,\n",
        "    n_jobs=1, precompute_distances=True, random_state=None, tol=0.0001,\n",
        "    verbose=True)"
       ]
      }
     ],
     "prompt_number": 42
    },
    {
     "cell_type": "code",
     "collapsed": false,
     "input": [
      "evaluate_kmeans(hstack([S,X,TS]), nclusters=35, ncomponents=58)"
     ],
     "language": "python",
     "metadata": {},
     "outputs": [
      {
       "output_type": "stream",
       "stream": "stdout",
       "text": [
        "189 7466\n",
        "Initialization complete"
       ]
      },
      {
       "output_type": "stream",
       "stream": "stdout",
       "text": [
        "\n",
        "Iteration  0, inertia 68.661\n",
        "Iteration  1, inertia 46.211\n",
        "Iteration  2, inertia 46.029\n",
        "Iteration  3, inertia 45.996\n",
        "Converged at iteration 3\n",
        "Homogeneity: 0.862\n",
        "Completeness: 0.563\n",
        "V-measure: 0.681\n"
       ]
      },
      {
       "metadata": {},
       "output_type": "pyout",
       "prompt_number": 46,
       "text": [
        "KMeans(copy_x=True, init='k-means++', max_iter=100, n_clusters=35, n_init=1,\n",
        "    n_jobs=1, precompute_distances=True, random_state=None, tol=0.0001,\n",
        "    verbose=True)"
       ]
      }
     ],
     "prompt_number": 46
    }
   ],
   "metadata": {}
  }
 ]
}